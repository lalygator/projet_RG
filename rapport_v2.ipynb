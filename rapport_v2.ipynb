{
 "cells": [
  {
   "cell_type": "markdown",
   "metadata": {},
   "source": [
    "### Projet informatique L3 : Laly Boyer, Klara Piotrowska"
   ]
  },
  {
   "cell_type": "markdown",
   "metadata": {},
   "source": [
    "#  Relativité Générale - Étude du mouvement d'une étoile autour d'un trou noir de Schwarzschild"
   ]
  },
  {
   "cell_type": "markdown",
   "metadata": {},
   "source": [
    "Ici j'ai commencé à recréer le rapport, en combinant ce que tu avais fait pour le cahier de charges en latex et le \"rapport.ipynb\". \n",
    "Pas d'accents pour le moment mais je les mettrai a la fin.\n",
    "\n",
    "+ Objectif,\n",
    "+ Unités,\n",
    "+ Équations, dérivation,\n",
    "+ Analyse: Orbites stables, orbites instables, effet doppler , energie, potentiel efficace,\n",
    "+ interprétation plus relat general que newton,\n",
    "+ autre métrique ? \n",
    "\n",
    "Questions:\n",
    "+ Mettre table de matiere? \n",
    "+ Mettre plus de sous sections?\n",
    "\n",
    "######################################################"
   ]
  },
  {
   "cell_type": "markdown",
   "metadata": {},
   "source": [
    "### **Sommaire**\n",
    "\n",
    "1.  Objectifs principaux \n",
    "\n",
    "2.  Les outils mathematiques de la relativite generale\n",
    "\n",
    "3.  Implementation\n",
    "\n",
    "4.  Analyse des resultats\n",
    "\n",
    "\n"
   ]
  },
  {
   "cell_type": "markdown",
   "metadata": {},
   "source": [
    "### **1.  Objectifs principaux**"
   ]
  },
  {
   "cell_type": "markdown",
   "metadata": {},
   "source": [
    "Le but de notre projet est de determnier et analyser la trajectoire d’un objet physique (par ex. une etoile) autour d’un trou noir de Schwarzschild.\n",
    "\n",
    " Nous nous proposons de represanter les differantes types des trajectoire en 2D. Ensuite, nous etudierons les phenomenes physiques liees a la precession, tel que l'evolution d'energie d'objet et inflexion de la lumiere emise . \n",
    " \n",
    " Pour cela, nous aborderons les outils mathematiques de la relativite generale  afin d'etablir et de resoudre numeriquement les equations du mouvement dans la metrique de Schwarzschild.\n",
    "\n",
    " \n"
   ]
  },
  {
   "cell_type": "markdown",
   "metadata": {},
   "source": [
    "### **2.  Les outils mathematiques de la relativite generale**"
   ]
  },
  {
   "cell_type": "markdown",
   "metadata": {},
   "source": [
    "####  2.1. Metrique\n",
    "Afin de procéder à une résolution numérique d’un problème physique, on doit d’abord specifier les équations de mouvement dans l’espace en question.\n",
    "\n",
    "On veut effectuer une simulation dans l’espace définie par la métrique de Schwarzschild (en coordonnées sphériques).\n",
    "\n",
    "L'intervalle s'ecrit alors :\n",
    "$$ds^2=-(1-\\frac{2GM}{c^2r})c^2dt^2+(1-\\frac{2GM}{c^2r})^{^{-1}}dr^2+r^2(d\\theta^2 +sin(\\theta )d\\varphi ^2)$$\n",
    "\n",
    "De plus, pour simplifier les calcules nous choisisons les unites $G=c=1$. Il faudra neanmoins effectuer les substitutions:  $M$ -> $MG/c^2$ et $dt$ -> $cdt$ dans le cas d'une application numerique. \n",
    "\n",
    "Puisqu’on se place dans un plan défini par $\\theta$ constant et égale à $\\pi$/2 on peut simplifier l’expression d’intervalle:\n",
    "$$ ds^2=-(1-\\frac{2M}{r})dt^2+(1-\\frac{2M}{r})^{^{-1}}dr^2+r^2d\\varphi ^2$$"
   ]
  },
  {
   "cell_type": "markdown",
   "metadata": {},
   "source": [
    "####  2.2. Equations d’Euler Lagrange\n",
    "\n",
    "Pour simuler  un tel espace nous aurons d’abord besoin d'établir les équations géodésiques, qui définiront la chemin le plus courte entre les deux points de l’espace. A cette fin, on résout les équations d’Euler Lagrange: $\\frac{d}{d\\tau }(\\frac{\\partial \\mathcal {L}}{\\partial \\dot{q_{i}}})=\\frac{\\partial \\mathcal {L}}{\\partial{q_{i}}}$ avec $q_{i}$ les coordonees generalisees $t, r, \\varphi$. Dans le cas de la relativite generale la derive temporel classique est remplace par la derivee par rapport a tau car le temps t est une des coordonees generalisees du probleme. \n",
    "\n",
    "Le lagrangien est defini comme: \n",
    "\n",
    "$\\mathcal {L}=\\frac{1}{2}g_{\\mu \\nu }\\frac{dx^{\\mu }}{d\\tau }\\frac{dx^{\\nu  }}{d\\tau }        \\Leftrightarrow   \n",
    " \\mathcal {L} =  \\frac{1}{2}\\left(1 - \\frac{2M}{r}\\right) \\dot{t}^2 - \\frac{1}{2} \\left(1 - \\frac{2M}{r}\\right)^{-1}\\dot{r}^2 - \\frac{1}{2} r^2 \\dot{\\varphi}^2 $ , les derivees par rapport a tau sont marquees par les points\n",
    "\n",
    "Resolution des equations EL donne: \n",
    "+ t et $\\varphi$ sont des variables cycliques, qui donnes les constantes de mouvement:  \n",
    "\n",
    "$\\;\\;\\;\\;\\;\\;$  $(1-\\frac{2M}{r})\\dot{t}= E$, on interprète cette quantité comme l'énergie totale de la masse. Energie totale est donc conservée. \n",
    "    \n",
    "$\\;\\;\\;\\;\\;\\;$ $r^2\\dot{\\varphi }=L$ correspond au moment cinétique conservé. \n",
    "\n",
    "+ sur r:\n",
    "\n",
    "$$\\frac{d\\dot{r}}{d\\tau }=-\\frac{M}{r^2}\\frac{E^2}{(1-\\frac{2M}{r})}+\\frac{L^2}{r^3}({1-\\frac{M}{r}})+ \\frac{M}{r^2}\\frac{1}{({1-\\frac{M}{r}})}\\dot{r}^2$$  \n",
    "$\\;\\;\\;\\;\\;\\;$ qui peut se réécrire comme: \n",
    "$$\\frac{d\\dot{r}}{d\\tau }=\\frac{-2M}{r^2}\\mathcal {L}+\\frac{L^2}{r^3}(1-\\frac{3M}{r})$$\n",
    "\n"
   ]
  },
  {
   "cell_type": "markdown",
   "metadata": {},
   "source": [
    "\n",
    "Ensuite, on choisit de fixer $ \\mathcal {L}$  à ½ dans le cas de mouvement des particules massives et à 0 dans le cas de la lumière.  On a donc:\n",
    "\n",
    "+ Pour la lumière ($ \\mathcal {L}$=0):\n",
    "\n",
    " $$\\frac{d\\dot{r}}{d\\tau}=\\frac{L^2}{r^3}(1-\\frac{3M}{r})$$\n",
    "\n",
    "+ Pour une particule massive ($ \\mathcal {L}$=½): \n",
    "\n",
    "$$\\frac{d\\dot{r}}{d\\tau}=\\frac{-M}{r^2}+\\frac{L^2}{r^3}(1-\\frac{3M}{r})$$\n",
    "\n",
    "\n"
   ]
  },
  {
   "cell_type": "markdown",
   "metadata": {},
   "source": [
    "### **3. Implémentation**"
   ]
  },
  {
   "cell_type": "markdown",
   "metadata": {},
   "source": [
    "Nous avons établi les équations différentielles qui gouvernent le mouvement et avec lesquelles nous pourrions simuler les trajectoires des objets au différentes conditions initiales. On importe les modules necessaires. "
   ]
  },
  {
   "cell_type": "code",
   "execution_count": 1,
   "metadata": {},
   "outputs": [],
   "source": [
    "import numpy as np\n",
    "import matplotlib.pyplot as plt\n",
    "from mpl_toolkits.mplot3d import Axes3D\n",
    "from matplotlib.animation import FuncAnimation\n",
    "from scipy.integrate import odeint\n",
    "import scipy.optimize\n",
    "from scipy.optimize import *\n",
    "\n",
    "import sys \n",
    "import matplotlib.gridspec as gridspec\n",
    "\n",
    "import numpy as np\n",
    "from scipy.integrate import odeint\n",
    "from scipy.optimize import fsolve\n",
    "import matplotlib.pyplot as plt"
   ]
  },
  {
   "cell_type": "markdown",
   "metadata": {},
   "source": []
  },
  {
   "cell_type": "markdown",
   "metadata": {},
   "source": []
  },
  {
   "cell_type": "markdown",
   "metadata": {},
   "source": []
  },
  {
   "cell_type": "markdown",
   "metadata": {},
   "source": []
  },
  {
   "cell_type": "markdown",
   "metadata": {},
   "source": []
  },
  {
   "cell_type": "markdown",
   "metadata": {},
   "source": [
    "### Facteur $\\frac{dt}{ds}=\\frac{dt}{d\\tau}=\\dot{t_0}$\n",
    "\n",
    "Soit la métrique de Schwarzschild dans un plan défini par $\\theta = \\frac{1}{2}$, on a :\n",
    "\n",
    "\\begin{equation}\n",
    "\n",
    "ds^2 = -\\left(1-\\frac{2GM}{c^2 r}\\right)dt^2+\\left(1-\\frac{2GM}{c^2r}\\right)^{-1}dr^2+r^2d\\varphi^2\n",
    "\n",
    "\\end{equation}\n",
    "\n",
    "Pour trouver l'expression $\\frac{dt}{ds}$, on réexprime la métrique tel que :\n",
    "\n",
    "\\begin{align*}\n",
    "\n",
    "ds^2 &= -\\left(1-\\frac{2GM}{c^2 r}\\right)dt^2+\\left(1-\\frac{2GM}{c^2r}\\right)^{-1}dr^2+r^2d\\varphi^2 \\\\\n",
    "\n",
    "\\iff \\frac{ds^2}{dt^2} &= -\\left(1-\\frac{2GM}{c^2 r}\\right)+\\left(1-\\frac{2GM}{c^2r}\\right)^{-1}\\frac{dr^2}{dt^2}+r^2\\frac{d\\varphi^2}{dt^2}\n",
    "\n",
    "\\end{align*}\n",
    "\n",
    "Or on a $\\left(\\frac{dr}{dt}\\right)^2=V_r^2$ et $\\left(\\frac{d\\varphi}{dt}\\right)^2=V_\\varphi^2$, d'où :\n",
    "\n",
    "\\begin{align*}\n",
    "\n",
    "\\frac{ds^2}{dt^2} &= -\\left(1-\\frac{2GM}{c^2 r}\\right)+\\left(1-\\frac{2GM}{c^2r}\\right)^{-1}V_r^2+r^2 V_\\varphi^2 \\\\ \\: \\\\\n",
    "\n",
    "\\iff \\frac{dt}{ds} &= \\frac{1}{\\sqrt{-\\left(1-\\frac{2GM}{c^2 r}\\right)+\\left(1-\\frac{2GM}{c^2r}\\right)^{-1}V_r^2+r^2 V_\\varphi^2}} \\\\ \n",
    "    &= \\frac{1}{\\sqrt{\\left(1-\\frac{2GM}{c^2 r}\\right)-\\left(1-\\frac{2GM}{c^2r}\\right)^{-1}V_r^2-r^2 V_\\varphi^2}}\n",
    "\\end{align*}"
   ]
  },
  {
   "cell_type": "markdown",
   "metadata": {},
   "source": []
  },
  {
   "cell_type": "markdown",
   "metadata": {},
   "source": []
  },
  {
   "cell_type": "markdown",
   "metadata": {},
   "source": [
    "### Implémentation dans le code\n",
    "\n",
    "On considère ici les unités géométriques où $c = G = 1$, d'où :"
   ]
  },
  {
   "cell_type": "code",
   "execution_count": null,
   "metadata": {},
   "outputs": [],
   "source": [
    "dt_dtau = 1/np.sqrt((1-2*M/r0) - (1-2*M/r0)**(-1)*v_r**2 - r0*v_phi**2)"
   ]
  },
  {
   "cell_type": "markdown",
   "metadata": {},
   "source": [
    "Soit notre lagrangien\n",
    "\n",
    "$$L=\\frac{1}{2}\\left(\\left(1-\\frac{2M}{r}\\right)\\dot t ^2-\\left(1-\\frac{2M}{r}\\right)^{-1}\\dot r^2-r^2\\dot \\varphi ^2\\right)$$\n",
    "\n",
    "Comme le lagrangien de dépend pas explicitmement de $t$ et $\\varphi$, on obtient :\n",
    "\n",
    "\\begin{cases}\n",
    "E=\\left(1-\\dfrac{2M}{r}\\right)\\dot t\\\\\n",
    "L=r^2 \\dot \\varphi\n",
    "\\end{cases}\n",
    "\n",
    "Pour la variable $r$, on obtient en résolvant l'équation d'Euler-Lagrange\n",
    "\n"
   ]
  },
  {
   "cell_type": "markdown",
   "metadata": {},
   "source": [
    "## Incrément physique du système\n",
    "\n",
    "\\begin{align*}\n",
    "&\\frac{dt}{ds}=E(1-\\frac{2M}{r})^{-1} \\\\\n",
    "&\\frac{dr}{ds}=\\dot r\\\\\n",
    "&\\frac{d\\varphi}{ds}=\\frac{L}{r^2}\\\\\n",
    "&\\frac{d\\dot r}{ds}=\\frac{-M}{r^2}+\\frac{L^2}{r^3}(1-\\frac{3M}{r})\n",
    "\\end{align*}"
   ]
  },
  {
   "cell_type": "markdown",
   "metadata": {},
   "source": [
    "## Orbite stable"
   ]
  }
 ],
 "metadata": {
  "kernelspec": {
   "display_name": "Python 3",
   "language": "python",
   "name": "python3"
  },
  "language_info": {
   "codemirror_mode": {
    "name": "ipython",
    "version": 3
   },
   "file_extension": ".py",
   "mimetype": "text/x-python",
   "name": "python",
   "nbconvert_exporter": "python",
   "pygments_lexer": "ipython3",
   "version": "3.10.11"
  }
 },
 "nbformat": 4,
 "nbformat_minor": 2
}
