{
 "cells": [
  {
   "cell_type": "markdown",
   "metadata": {},
   "source": [
    "# Simulation de la trajectoire d'une étoile proche d'un trou noir de Schwarzschild"
   ]
  },
  {
   "cell_type": "markdown",
   "metadata": {},
   "source": [
    "On veut simuler la trajectoire d'une étoile proche d'un trou noir de Schwarzschild. Pour ça il faut calculer avec un pas de temps :\n",
    "\n",
    "- la distance de l'étoile du trou noir à un instant\n",
    "- la vitesse angulaire $V_\\varphi$\n",
    "- la vitesse rayon $V_r$\n",
    "- l'angle de déplacement $\\varphi$"
   ]
  },
  {
   "cell_type": "markdown",
   "metadata": {},
   "source": [
    "### Facteur $\\frac{dt}{ds}=\\frac{dt}{d\\tau}=\\dot{t_0}$\n",
    "\n",
    "Soit la métrique de Schwarzschild dans un plan défini par $\\theta = \\frac{1}{2}$, on a :\n",
    "\n",
    "\\begin{equation}\n",
    "\n",
    "ds^2 = -\\left(1-\\frac{2GM}{c^2 r}\\right)dt^2+\\left(1-\\frac{2GM}{c^2r}\\right)^{-1}dr^2+r^2d\\varphi^2\n",
    "\n",
    "\\end{equation}\n",
    "\n",
    "Pour trouver l'expression $\\frac{dt}{ds}$, on réexprime la métrique tel que :\n",
    "\n",
    "\\begin{align*}\n",
    "\n",
    "ds^2 &= -\\left(1-\\frac{2GM}{c^2 r}\\right)dt^2+\\left(1-\\frac{2GM}{c^2r}\\right)^{-1}dr^2+r^2d\\varphi^2 \\\\\n",
    "\n",
    "\\iff \\frac{ds^2}{dt^2} &= -\\left(1-\\frac{2GM}{c^2 r}\\right)+\\left(1-\\frac{2GM}{c^2r}\\right)^{-1}\\frac{dr^2}{dt^2}+r^2\\frac{d\\varphi^2}{dt^2}\n",
    "\n",
    "\\end{align*}\n",
    "\n",
    "Or on a $\\left(\\frac{dr}{dt}\\right)^2=V_r^2$ et $\\left(\\frac{d\\varphi}{dt}\\right)^2=V_\\varphi^2$, d'où :\n",
    "\n",
    "\\begin{align*}\n",
    "\n",
    "\\frac{ds^2}{dt^2} &= -\\left(1-\\frac{2GM}{c^2 r}\\right)+\\left(1-\\frac{2GM}{c^2r}\\right)^{-1}V_r^2+r^2 V_\\varphi^2 \\\\ \\: \\\\\n",
    "\n",
    "\\iff \\frac{dt}{ds} &= \\frac{1}{\\sqrt{-\\left(1-\\frac{2GM}{c^2 r}\\right)+\\left(1-\\frac{2GM}{c^2r}\\right)^{-1}V_r^2+r^2 V_\\varphi^2}} \\\\ \n",
    "    &= \\frac{1}{\\sqrt{\\left(1-\\frac{2GM}{c^2 r}\\right)-\\left(1-\\frac{2GM}{c^2r}\\right)^{-1}V_r^2-r^2 V_\\varphi^2}}\n",
    "\\end{align*}"
   ]
  },
  {
   "cell_type": "markdown",
   "metadata": {},
   "source": [
    "### Implémentation dans le code\n",
    "\n",
    "On considère ici les unités géométriques où $c = G = 1$, d'où :"
   ]
  },
  {
   "cell_type": "code",
   "execution_count": null,
   "metadata": {},
   "outputs": [],
   "source": [
    "dt_dtau = 1/np.sqrt((1-2*M/r0) - (1-2*M/r0)**(-1)*v_r**2 - r0*v_phi**2)"
   ]
  },
  {
   "cell_type": "markdown",
   "metadata": {},
   "source": [
    "Soit notre lagrangien\n",
    "\n",
    "$$L=\\frac{1}{2}\\left(\\left(1-\\frac{2M}{r}\\right)\\dot t ^2-\\left(1-\\frac{2M}{r}\\right)^{-1}\\dot r^2-r^2\\dot \\varphi ^2\\right)$$\n",
    "\n",
    "Comme le lagrangien de dépend pas explicitmement de $t$ et $\\varphi$, on obtient :\n",
    "\n",
    "\\begin{cases}\n",
    "E=\\left(1-\\dfrac{2M}{r}\\right)\\dot t\\\\\n",
    "L=r^2 \\dot \\varphi\n",
    "\\end{cases}\n",
    "\n",
    "Pour la variable $r$, on obtient en résolvant l'équation d'Euler-Lagrange\n",
    "\n"
   ]
  },
  {
   "cell_type": "markdown",
   "metadata": {},
   "source": [
    "## Incrément physique du système\n",
    "\n",
    "\\begin{align*}\n",
    "&\\frac{dt}{ds}=E(1-\\frac{2M}{r})^{-1} \\\\\n",
    "&\\frac{dr}{ds}=\\dot r\\\\\n",
    "&\\frac{d\\varphi}{ds}=\\frac{L}{r^2}\\\\\n",
    "&\\frac{d\\dot r}{ds}=\\frac{-M}{r^2}+\\frac{L^2}{r^3}(1-\\frac{3M}{r})\n",
    "\\end{align*}"
   ]
  },
  {
   "cell_type": "markdown",
   "metadata": {},
   "source": [
    "## Orbite stable"
   ]
  }
 ],
 "metadata": {
  "kernelspec": {
   "display_name": "Python 3",
   "language": "python",
   "name": "python3"
  },
  "language_info": {
   "codemirror_mode": {
    "name": "ipython",
    "version": 3
   },
   "file_extension": ".py",
   "mimetype": "text/x-python",
   "name": "python",
   "nbconvert_exporter": "python",
   "pygments_lexer": "ipython3",
   "version": "3.10.6"
  }
 },
 "nbformat": 4,
 "nbformat_minor": 2
}
