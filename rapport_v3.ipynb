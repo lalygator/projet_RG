{
 "cells": [
  {
   "cell_type": "markdown",
   "metadata": {},
   "source": [
    "### Projet informatique L3 : Laly Boyer, Klara Piotrowska"
   ]
  },
  {
   "cell_type": "markdown",
   "metadata": {},
   "source": [
    "#  Relativité Générale - Étude du mouvement d'une étoile autour d'un trou noir de Schwarzschild"
   ]
  },
  {
   "cell_type": "markdown",
   "metadata": {},
   "source": [
    "Ici j'ai commencé à recréer le rapport, en combinant ce que tu avais fait pour le cahier de charges en latex et le \"rapport.ipynb\". \n",
    "Pas d'accents pour le moment mais je les mettrai a la fin.\n",
    "\n",
    "A propos de ds, je ne crois pas que c'est la meme chose que d_tau. On definit ds d'abord comme intervalle et il me semble que deriver le lagrengien par rapport a l'intervalle n'a pas du sens; il faut le deriver par rapport au parametre temporel mais qui n'est pas exactement t classque qui apparait dans l'expression de ds^2. Ce parametre est alors analoque au temps classique, ce n'est pas non plus le temps propre au sens de la relativite restrainte Au finale je crois que c'est mieux de ne pas l'appeler ni tau  Voici d'ou je sors cela: \n",
    "\n",
    "https://www2.iap.fr/users/blanchet/images/coursRG.pdf  - page 38\n",
    "\n",
    "https://www.math.ens.psl.eu/shared-files/10935/?scornet.pdf  - page 17\n",
    "\n",
    "https://apc.u-paris.fr/~kaplan/RG/RG.pdf debut\n",
    "\n",
    "https://fr.wikipedia.org/wiki/M%C3%A9trique_de_Schwarzschild#cite_ref-60     section expression de la metrique\n",
    "\n",
    "+ Objectif,\n",
    "+ Unités,\n",
    "+ Équations, dérivation,\n",
    "+ Analyse: Orbites stables, orbites instables, effet doppler , energie, potentiel efficace,\n",
    "+ interprétation plus relat general que newton,\n",
    "+ autre métrique ? \n",
    "\n",
    "Questions:\n",
    "+ Mettre table de matiere? \n",
    "+ Mettre plus de sous sections?\n",
    "\n",
    "######################################################"
   ]
  },
  {
   "cell_type": "markdown",
   "metadata": {},
   "source": [
    "### **Sommaire**\n",
    "\n",
    "1.  Objectifs principaux \n",
    "\n",
    "2.  Les outils mathematiques de la relativite generale\n",
    "\n",
    "3.  Implementation\n",
    "\n",
    "4.  Analyse des resultats\n",
    "\n",
    "\n"
   ]
  },
  {
   "cell_type": "markdown",
   "metadata": {},
   "source": [
    "### **1.  Objectifs principaux**"
   ]
  },
  {
   "cell_type": "markdown",
   "metadata": {},
   "source": [
    "Le but de notre projet est de determnier et analyser la trajectoire d’un objet physique (par ex. une etoile) autour d’un trou noir de Schwarzschild.\n",
    "\n",
    " Nous nous proposons de represanter les differantes types des trajectoire en 2D. Ensuite, nous etudierons les phenomenes physiques liees a la precession, tel que l'evolution d'energie d'objet et inflexion de la lumiere emise . \n",
    " \n",
    " Pour cela, nous aborderons les outils mathematiques de la relativite generale  afin d'etablir et de resoudre numeriquement les equations du mouvement dans la metrique de Schwarzschild.\n",
    "\n",
    " \n"
   ]
  },
  {
   "cell_type": "markdown",
   "metadata": {},
   "source": [
    "### **2.  Les outils mathematiques de la relativite generale**"
   ]
  },
  {
   "cell_type": "markdown",
   "metadata": {},
   "source": [
    "####  2.1. Metrique\n",
    "Afin de procéder à une résolution numérique d’un problème physique, on doit d’abord specifier les équations de mouvement dans l’espace en question.\n",
    "\n",
    "On veut effectuer une simulation dans l’espace définie par la métrique de Schwarzschild (en coordonnées sphériques).\n",
    "\n",
    "L'intervalle s'ecrit alors :\n",
    "$$ds^2=-(1-\\frac{2GM}{c^2r})c^2dt^2+(1-\\frac{2GM}{c^2r})^{^{-1}}dr^2+r^2(d\\theta^2 +sin(\\theta )d\\varphi ^2)$$\n",
    "\n",
    "De plus, pour simplifier les calcules nous choisisons les unites $G=c=1$. Il faudra neanmoins effectuer les substitutions:  $M$ -> $MG/c^2$ et $dt$ -> $cdt$ dans le cas d'une application numerique. \n",
    "\n",
    "Puisqu’on se place dans un plan défini par $\\theta$ constant et égale à $\\pi$/2 on peut simplifier l’expression d’intervalle:\n",
    "$$ ds^2=-(1-\\frac{2M}{r})dt^2+(1-\\frac{2M}{r})^{^{-1}}dr^2+r^2d\\varphi ^2$$"
   ]
  },
  {
   "cell_type": "markdown",
   "metadata": {},
   "source": [
    "####  2.2. Equations d’Euler Lagrange\n",
    "\n",
    "Pour simuler  un tel espace nous aurons d’abord besoin d'établir les équations géodésiques, qui définiront la chemin le plus courte entre les deux points de l’espace. A cette fin, on résout les équations d’Euler Lagrange: $\\frac{d}{d\\tau }(\\frac{\\partial \\mathcal {L}}{\\partial \\dot{q_{i}}})=\\frac{\\partial \\mathcal {L}}{\\partial{q_{i}}}$ avec $q_{i}$ les coordonees generalisees $t, r, \\varphi$. \n",
    "\n",
    "Dans le cas de la relativite generale la derive temporel classique est remplacee par la derivee par rapport a $\\tau$ car le temps t est une des coordonees generalisees du probleme. $\\tau$ est alors le temps propre au sens de la relativite restrainte, tel que $-c^2d\\tau^2=ds^2$.\n",
    "\n",
    "Le lagrangien est defini comme: \n",
    "\n",
    "$\\mathcal {L}= -\\frac{1}{2}g_{\\mu \\nu }\\frac{dx^{\\mu }}{d\\tau }\\frac{dx^{\\nu  }}{d\\tau }        \\Leftrightarrow   \n",
    " \\mathcal {L} =  \\frac{1}{2}\\left(1 - \\frac{2M}{r}\\right) \\dot{t}^2 - \\frac{1}{2} \\left(1 - \\frac{2M}{r}\\right)^{-1}\\dot{r}^2 - \\frac{1}{2} r^2 \\dot{\\varphi}^2 $ , \n",
    " \n",
    " avec les vitesses $\\frac{dt}{d\\tau }=\\dot{t}$ , $\\frac{d\\varphi}{d\\tau }=\\dot{\\varphi}$, $\\frac{dr}{d\\tau }=\\dot{r}$\n",
    "\n",
    "Resolution des equations EL donne: \n",
    "+ t et $\\varphi$ sont des variables cycliques, qui donnes les constantes de mouvement:  \n",
    "\n",
    "$\\;\\;\\;\\;\\;\\;$  $(1-\\frac{2M}{r})\\dot{t}= E$, on interprète cette quantité comme l'énergie totale de la masse. Energie totale est donc conservée. \n",
    "    \n",
    "$\\;\\;\\;\\;\\;\\;$ $r^2\\dot{\\varphi }=L$ correspond au moment cinétique conservé. \n",
    "\n",
    "+ sur r:\n",
    "\n",
    "$$\\frac{d\\dot{r}}{d\\tau }=-\\frac{M}{r^2}\\frac{E^2}{(1-\\frac{2M}{r})}+\\frac{L^2}{r^3}({1-\\frac{M}{r}})+ \\frac{M}{r^2}\\frac{1}{({1-\\frac{M}{r}})}\\dot{r}^2$$  \n",
    "$\\;\\;\\;\\;\\;\\;$ qui peut se réécrire comme: \n",
    "$$\\frac{d\\dot{r}}{d\\tau }=\\frac{-2M}{r^2}\\mathcal {L}+\\frac{L^2}{r^3}(1-\\frac{3M}{r})$$\n",
    "\n"
   ]
  },
  {
   "cell_type": "markdown",
   "metadata": {},
   "source": [
    "\n",
    "Ensuite, on choisit de fixer $ \\mathcal {L}$  à ½ dans le cas de mouvement des particules massives et à 0 dans le cas de la lumière.  On a donc:\n",
    "\n",
    "+ Pour la lumière ($ \\mathcal {L}$=0):\n",
    "\n",
    " $$\\frac{d\\dot{r}}{d\\tau}=\\frac{L^2}{r^3}(1-\\frac{3M}{r})$$\n",
    "\n",
    "+ Pour une particule massive ($ \\mathcal {L}$=½): \n",
    "\n",
    "$$\\frac{d\\dot{r}}{d\\tau}=\\frac{-M}{r^2}+\\frac{L^2}{r^3}(1-\\frac{3M}{r})$$\n",
    "\n",
    "\n"
   ]
  },
  {
   "cell_type": "markdown",
   "metadata": {},
   "source": [
    "En resume, les equations definisant les geodesiques sont les suivants:\n",
    "\n",
    "\\begin{align*}\n",
    "&\\frac{dt}{d\\tau}=E(1-\\frac{2M}{r})^{-1} \\\\\n",
    "&\\frac{dr}{d\\tau}=\\dot r\\\\\n",
    "&\\frac{d\\varphi}{d\\tau}=\\frac{L}{r^2}\\\\\n",
    "&\\frac{d\\dot r}{d\\tau}=\\frac{-M}{r^2}+\\frac{L^2}{r^3}(1-\\frac{3M}{r})\n",
    "\\end{align*}"
   ]
  },
  {
   "cell_type": "markdown",
   "metadata": {},
   "source": [
    "### **3. Implémentation**"
   ]
  },
  {
   "cell_type": "markdown",
   "metadata": {},
   "source": [
    "Nous avons établi les équations différentielles qui gouvernent le mouvement et avec lesquelles nous pourrions simuler les trajectoires des objets au différentes conditions initiales. On importe les modules necessaires. "
   ]
  },
  {
   "cell_type": "code",
   "execution_count": null,
   "metadata": {},
   "outputs": [],
   "source": [
    "import numpy as np\n",
    "import matplotlib.pyplot as plt\n",
    "from mpl_toolkits.mplot3d import Axes3D\n",
    "from matplotlib.animation import FuncAnimation\n",
    "import matplotlib.gridspec as gridspec\n",
    "from scipy.integrate import odeint\n",
    "import scipy.optimize\n",
    "from scipy.optimize import *\n",
    "import sys "
   ]
  },
  {
   "cell_type": "markdown",
   "metadata": {},
   "source": [
    "On definit une fonction prise en argument par odeint, qui incremanta les variables de notre probleme."
   ]
  },
  {
   "cell_type": "code",
   "execution_count": null,
   "metadata": {},
   "outputs": [],
   "source": [
    "def geodesics(y, tau, L, E, M):\n",
    "\n",
    "    t0, r, phi, r_dot= y  # y porte le valeurs de temps, rayon, phi, vitesse radiale (derivee par rapport a tau)\n",
    "    dt_dtau = E / (1 - 2 * M / r) # Incremantation du temps\n",
    "    dr_dtau = r_dot # Incremantation de la vitesse radiale\n",
    "    dphi_dtau = L / r**2 # Incremantation de vitesse selon phi\n",
    "    drdot_dtau = -(M / r**2) + (L**2 / r**3) - (3 * M * L**2) / r**4 # Incremantation l'accelaration radiale \n",
    "    \n",
    "    return [dt_dtau, dr_dtau, dphi_dtau, drdot_dtau]"
   ]
  },
  {
   "cell_type": "markdown",
   "metadata": {},
   "source": [
    "On specifie les conditions initiales et on calcules les constantes de mouvement, energie $E$ et moment cinetique $L$. On peut normaliser la masse a 1 (le valeur numerique de la masse sera indique par $M_{vrai}$), dans ce cas le rayon est est egalemet sans unites. Compte tenu du precedant choix d'unites (G=c=1) on devrait en realite remplacer:\n",
    "\n",
    " $M$ [sans unites] -> $\\frac{M_{vrai}G}{c^2} [L] $  \n",
    " \n",
    "  et $r$ [sans unites] -> $r*M_{vrai}[L] $"
   ]
  },
  {
   "cell_type": "code",
   "execution_count": null,
   "metadata": {},
   "outputs": [],
   "source": [
    "M=1\n",
    "r=7  \n",
    "v_r = 0 \n",
    "t0=1\n",
    "phi0 = 0\n",
    "\n",
    "L=9*9*0.05 #valeurs arbitraire\n",
    "E=np.sqrt((1 - 2 * M / r) * (1 + L**2 / r**2))  "
   ]
  },
  {
   "cell_type": "markdown",
   "metadata": {},
   "source": [
    "On procede a la resolution des equations differantiels a l'aide de la fonction odeint."
   ]
  },
  {
   "cell_type": "code",
   "execution_count": null,
   "metadata": {},
   "outputs": [],
   "source": [
    "tau = np.linspace(0, 60000, 600000) #vecteur du temps propre\n",
    "y0 = [t0, r, phi0, v_r] # conditions initiales\n",
    "sol = odeint(geodesics, y0, tau, args=(L, E, M,))\n",
    "sol_t0, sol_r, sol_phi, sol_r_dot = sol[:, 0] , sol[:, 1] ,sol[:, 2] ,sol[:, 3] #portent les valeurs consequtifs des variables d'espace temps"
   ]
  },
  {
   "cell_type": "markdown",
   "metadata": {},
   "source": [
    "### **3. Analyse**"
   ]
  },
  {
   "cell_type": "markdown",
   "metadata": {},
   "source": []
  },
  {
   "cell_type": "markdown",
   "metadata": {},
   "source": []
  },
  {
   "cell_type": "markdown",
   "metadata": {},
   "source": []
  },
  {
   "cell_type": "markdown",
   "metadata": {},
   "source": []
  }
 ],
 "metadata": {
  "kernelspec": {
   "display_name": "Python 3",
   "language": "python",
   "name": "python3"
  },
  "language_info": {
   "codemirror_mode": {
    "name": "ipython",
    "version": 3
   },
   "file_extension": ".py",
   "mimetype": "text/x-python",
   "name": "python",
   "nbconvert_exporter": "python",
   "pygments_lexer": "ipython3",
   "version": "3.10.11"
  }
 },
 "nbformat": 4,
 "nbformat_minor": 2
}
