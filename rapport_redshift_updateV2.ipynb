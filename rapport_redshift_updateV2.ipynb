{
 "cells": [
  {
   "cell_type": "markdown",
   "metadata": {},
   "source": [
    "### Projet UE Informatique L3 Physique : Laly Boyer, Klara Piotrowska"
   ]
  },
  {
   "cell_type": "markdown",
   "metadata": {},
   "source": [
    "# **Relativité Générale - Étude du mouvement d'une étoile autour d'un trou noir de Schwarzschild**"
   ]
  },
  {
   "cell_type": "markdown",
   "metadata": {},
   "source": [
    "# **Table des matières**\n",
    "\n",
    "# ! Mettre à jour la table des matières et mettre au propre\n",
    "\n",
    "## [I. Introduction](#introduction)\n",
    "\n",
    "### [I/1. Objectifs](#objectifs-principaux)\n",
    "\n",
    "## [II. Études des géodésiques en 2D sur une surface courbe](#2-étude-des-géodésiques-en-2d-sur-une-surface-courbe)\n",
    "### [II/1. Les outils mathématiques de la relativité générale](#1-les-outils-mathématiques-de-la-relativité-générale)\n",
    "### [II/2. implémentation dans le code](#2-implémentation-dans-le-code)\n",
    "### [II/3. Études des trajectoires stellaires autour du trou noir](#3-études-des-trajectoires-stellaires-autour-du-trou-noir)\n",
    "\n",
    "\n",
    "## [III. Mesure des énergies cinétiques et potentiels](#iii-mesure-des-énergies-cinétique-et-potentielle)\n",
    "\n",
    "## [IV. Effet du redshift gravitationnel](#iv-effet-du-redshift-gravitationnel)\n",
    "\n",
    "## [V. Comparaison entre Newton et Einstein](#v-comparaison-entre-newton-et-einstein)\n",
    "\n",
    "## [VI. Conclusion et perspective](#vi-conclusion-et-perspective)"
   ]
  },
  {
   "cell_type": "markdown",
   "metadata": {},
   "source": [
    "# **Introduction**\n",
    "\n",
    "Lorsqu'une étoile, une particule ou un photon orbite autour d'un trou noir, des effets relativistes, dus à la métrique singulière des trous noirs, perturbent le modèle newtonien classique.\n",
    "\n",
    "Ces effets relativistes sont nombreux, incluant la précession des orbites, le redshift gravitationnel et les effets de lentille gravitationnelle, et permettent de comprendre la dynamique autour des trous noirs. Les trajectoires suivies par ces objets correspondent à des géodésiques, qui représentent les chemins les plus courts dans un espace-temps courbé.\n",
    "\n",
    "Pour les étudier, il est nécessaire de considérer les lois physiques spécifiques aux trous noirs de Schwarzschild et de les exprimer sous forme de fonctions mathématiques. Ces fonctions permettent de modéliser l'évolution temporelle de chaque paramètre de trajectoire.\n",
    "\n",
    "<!-- <img src=\"figures/blackhole_image.jpg\" alt=\"image_trou_noir\" style=\"width:20em;display:block; margin:auto;\"> -->\n"
   ]
  },
  {
   "cell_type": "markdown",
   "metadata": {},
   "source": [
    "### <ins>Objectifs principaux</ins>\n",
    "\n",
    "- Étudier les géodésiques dans différents contextes physiques.\n",
    "- Simuler des phénomènes spécifiques à la relativité générale comme le mouvement des planètes, le redshift gravitationnel, et la déviation de la lumière.\n",
    "\n",
    "Le but de notre projet est de **déterminer** et **analyser** la <ins>trajectoire d’un objet physique</ins> (par ex. une étoile ou un photon) <ins>autour d’un trou noir de Schwarzschild</ins>.\n",
    "\n",
    "<!-- <div class=\"alert alert-block alert-info\">\n",
    "<b>Définition:</b> Trou noir de Schwarzschild : trou noir de charge électrique et de moment cinétique nul.\n",
    "</div> -->\n",
    "\n",
    "Dans un premier temps, nous chercherons à représenter les différents types de trajectoire dans un plan 2D.Pour cela, nous aborderons les outils mathématiques de la relativite générale afin d'établir et résoudre numériquement les équations du mouvement dans la métrique de Schwarzschild.\n",
    "\n",
    "Ensuite, nous étudierons les phénomènes physiques liées aux précession, tel que :\n",
    "- L'évolution d'énergie d'objet\n",
    "- Le redshift de la lumière, et\n",
    "- L'inflexion de la lumière émise. \n",
    "\n",
    "Nous comparerons alors les résultats de notre simulation avec des résultats physiques, comme la sphère photonique autour des trous noirs, ou ???"
   ]
  },
  {
   "cell_type": "markdown",
   "metadata": {},
   "source": [
    "# II. Étude des géodésiques en 2D\n",
    "\n",
    "Nous commencerons par décrire les lois physiques dictant l'espace-temps autour d'un trou noir de Schwarzschild. Pour cela, nous décrirons les outils mathématiques nécessaires.\n",
    "<!-- \n",
    "<ins>Description physique</ins> :\n",
    "\n",
    "Description de la géodésique pour un trou noir de Schwarzschild\n",
    "(Une surface courbe sert d'analogie simplifiée de l'espace-temps.)\n",
    "\n",
    "<ins>Code associé</ins> :\n",
    "\n",
    "- Fonction de calcul des géodésiques en 2D :\n",
    "\n",
    "    - Explication de la fonction geodesics et odeint\n",
    "\n",
    "- Paramètres : coordonnées initiales, vecteurs vitesse, temps.\n",
    "\n",
    "- Résultat : trajectoire de la particule ou du rayon lumineux.\n",
    "\n",
    "- Comparaison avec des géodésiques connues (cercle maximal sur une sphère).\n",
    "\n",
    "<ins>Lien avec la réalité physique</ins> :\n",
    "\n",
    "Analogie entre les géodésiques sur une surface courbe et les trajectoires dans l'espace-temps courbé. -->\n"
   ]
  },
  {
   "cell_type": "markdown",
   "metadata": {},
   "source": [
    "## **1. Les outils mathématiques de la relativité générale**"
   ]
  },
  {
   "cell_type": "markdown",
   "metadata": {},
   "source": [
    "### 1.1 Métrique\n",
    "\n",
    "Afin de procéder à la résolution numérique d’un problème physique, nous devons d’abord spécifier les équations de mouvement dans l’espace en question. Ici, on veut effectuer une simulation dans l’espace définie par la __métrique de Schwarzschild__ (en coordonnées sphériques).\n",
    "\n",
    "*Cette métrique décrit le champ gravitationnel au voisinage externe d'un corps isolé, à symétrie sphérique, statique (sans rotation), non chargé et entouré de vide.*\n",
    "\n",
    "L'intervalle s'écrit alors :\n",
    "\n",
    "$$ds^2=-\\left(1-\\frac{2GM}{c^2r}\\right)c^2dt^2+\\left(1-\\frac{2GM}{c^2r}\\right)^{^{-1}}dr^2+r^2\\left(d\\theta^2 +sin(\\theta )d\\varphi ^2\\right)$$\n",
    "\n",
    "Afin de simplifier les calculs, nous choisisons d'utiliser les unités géométriques $G=c=1$. Il faudra néanmoins effectuer les substitutions $M \\to \\frac{MG}{c^2}$ et $dt \\to cdt$ dans le cas d'une application numérique, par exemple pour le calcul du redshift.\n",
    "\n",
    "Puisqu’on se place dans un plan défini par $\\theta$ constant et égale à $\\frac{\\pi}{2}$, on peut simplifier l’expression de l'intervalle $ds^2$ par :\n",
    "\n",
    "$$\\boxed{ds^2=-\\left(1-\\frac{2M}{r}\\right)dt^2+\\left(1-\\frac{2M}{r}\\right)^{^{-1}}dr^2+r^2d\\varphi^2}$$\n",
    "\n",
    "Pour simuler numériquement un tel espace, nous avons d’abord besoin d’établir les équations\n",
    "géodésiques, qui vont définir le chemin le plus court entre deux points de l’espace. Pour cela, nous allons résoudre les équations d’Euler Lagrange associées au système.\n"
   ]
  },
  {
   "cell_type": "markdown",
   "metadata": {},
   "source": [
    "### 1.2 Equations d’Euler Lagrange"
   ]
  },
  {
   "cell_type": "markdown",
   "metadata": {},
   "source": [
    "\n",
    "#### 1.2.1 Définition des équations\n",
    "\n",
    "Nous avons donc défini l'expression de l'intervalle de notre espace. Nous devons maintenant établir les équations du mouvement permettant de simuler un tel espace. Ces équations vont correspondent à des géodésiques, définissant le chemin le plus court entre deux points de l’espace.  \n",
    "\n",
    "Par définition les équations d’EL s’obtient en calculant les dérivés, dont dérivés par rapport au temps propre $\\tau$.\n",
    "\n",
    "Le temps $t$ est juste une des coordonnées de problème, donc ne joue pas le rôle particulier dans les dérivés. \n",
    "\n",
    "L’intervalle $ds$ (qui prend toujours le même valeur numérique pour une particule, il est invariant) et $\\tau$ le temps propre sont liées par la relation $-c^2\\times d\\tau^2=ds^2$.\n",
    "\n",
    "\n",
    "On résout les équations d’Euler-Lagrange: \n",
    "$$\\frac{d}{d\\tau }\\left(\\frac{\\partial \\mathcal {L}}{\\partial \\dot{q_{i}}}\\right)=\\frac{\\partial \\mathcal {L}}{\\partial{q_{i}}}$$\n",
    "\n",
    "avec $q_{i}$ les coordonées généralisées {$t, r, \\varphi$}, soit\n",
    "\n",
    "$$\n",
    "\n",
    "\\frac{d}{d\\tau }\\left(\\frac{\\partial \\mathcal {L}}{\\partial \\dot{t}}\\right)=\\frac{\\partial \\mathcal {L}}{\\partial{t}}\n",
    "\\qquad\n",
    "\n",
    "\\frac{d}{d\\tau }\\left(\\frac{\\partial \\mathcal {L}}{\\partial \\dot{r}}\\right)=\\frac{\\partial \\mathcal {L}}{\\partial{r}}\n",
    "\\qquad\n",
    "\n",
    "\\frac{d}{d\\tau }\\left(\\frac{\\partial \\mathcal {L}}{\\partial \\dot{\\varphi}}\\right)=\\frac{\\partial \\mathcal {L}}{\\partial{\\varphi}}\n",
    "\n",
    "\n",
    "$$\n",
    "\n",
    "Dans le cadre de la relativité générale, la dérivée temporelle classique est remplacée par la dérivée par rapport à $\\tau$, car le temps $t$ est une des coordonnées généralisées du problème. $\\tau$ est alors le temps propre au sens de la relativité restreinte que dans le cas où on se place dans le référentiel liée à la particule, donc où $dr=d\\varphi=0$. #Verifier\n",
    "\n",
    "Le lagrangien est défini comme: \n",
    "\n",
    "$$\\begin{align*}\\mathcal {L} &= -\\frac{1}{2}g_{\\mu \\nu }\\frac{dx^{\\mu }}{d\\tau }\\frac{dx^{\\nu  }}{d\\tau } \\\\      \\Leftrightarrow \\mathcal {L} &=  \\frac{1}{2}\\left(1 - \\frac{2M}{r}\\right) \\dot{t}^2 - \\frac{1}{2} \\left(1 - \\frac{2M}{r}\\right)^{-1}\\dot{r}^2 - \\frac{1}{2} r^2 \\dot{\\varphi}^2\\end{align*}$$ \n",
    "\n",
    " \n",
    "avec les vitesses :\n",
    "\n",
    "$$\\dfrac{dt}{d\\tau }=\\dot{t} \\qquad \\dfrac{d\\varphi}{d\\tau }=\\dot{\\varphi} \\qquad \\dfrac{dr}{d\\tau }=\\dot{r}\\quad (1)$$"
   ]
  },
  {
   "cell_type": "markdown",
   "metadata": {},
   "source": [
    "\n",
    "\n",
    "#### 1.2.2 Résolution\n",
    "/# Revoir cette partie le formatage est bizarre\n",
    "\n",
    "On obtient alors :\n",
    "\n",
    "+ $t$ et $\\varphi$ :\n",
    "\n",
    "\n",
    "Comme $t$ et $\\varphi$ sont des **variables cycliques**, elles donnent les constantes de mouvement $E$ et $L$ :  \n",
    "\n",
    "$$\\begin{gather} \\boxed{\\left(1-\\frac{2M}{r}\\right)\\dot{t} = E}\\tag{2} \\\\\n",
    "\\boxed{r^2\\dot{\\varphi} = L }\\tag{3}\\end{gather}$$ \n",
    "\n",
    "On interprète $E$ comme l'**énergie totale de la masse**, et $L$ le **moment cinétique**. Ces deux quantités sont alors **conservées**.\n",
    "\n",
    "+ $r$ :\n",
    "\n",
    "On obtient l'équation :\n",
    "$$\\frac{d\\dot{r}}{d\\tau }=-\\frac{M}{r^2}\\frac{E^2}{(1-\\frac{2M}{r})}+\\frac{L^2}{r^3}\\left({1-\\frac{M}{r}}\\right)+ \\frac{M}{r^2}\\frac{1}{({1-\\frac{M}{r}})}\\dot{r}^2$$  \n",
    "qui peut se réécrire comme: \n",
    "$$\\begin{equation}\\boxed{\\frac{d\\dot{r}}{d\\tau }=\\frac{-2M}{r^2}\\mathcal {L}+\\frac{L^2}{r^3}\\left(1-\\frac{3M}{r}\\right)}\\end{equation}\\tag{4}$$\n",
    "\n",
    "\n",
    "On choisit alors de fixer $ \\mathcal {L}=\\frac{1}{2}$ dans le cas de mouvement des **particules massives**, et à $\\mathcal L = 0$ dans le cas de la **lumière**.  On a donc:\n",
    "\n",
    "+ Pour la lumière $\\left(\\mathcal {L}=0\\right)$:\n",
    "\n",
    " $$\\frac{d\\dot{r}}{d\\tau}=\\frac{L^2}{r^3}\\left(1-\\frac{3M}{r}\\right)$$\n",
    "\n",
    "+ Pour une particule massive $\\left(\\mathcal {L}=\\frac{1}{2}\\right)$: \n",
    "\n",
    "$$\\frac{d\\dot{r}}{d\\tau}=\\frac{-M}{r^2}+\\frac{L^2}{r^3}\\left(1-\\frac{3M}{r}\\right)$$"
   ]
  },
  {
   "cell_type": "markdown",
   "metadata": {},
   "source": [
    "### 1.3 Résolution numérique\n",
    "\n",
    "\n",
    "Nous avons ainsi établi les équations différentielles qui déterminent le mouvement dans l’espace; il nous est donc possible de **simuler la trajectoire d'objets célestes pour différentes conditions initiales**, à l'aide des modules `numpy`, `scipy` et `matplotlib`. \n",
    "\n",
    "Pour cela, nous utiliserons les **équations géodésiques** obtenus grâce au lagrangien, ainsi que les **équations de conservation** $L$ et $E$ afin d'incrémenter les variables $(r,\\:\\varphi,\\:t,\\:\\dot r)$. \n",
    "\n",
    "Pour résoudre ces équations différentielles, nous utiliserons la fonction `odeint` du module `scipy`. "
   ]
  },
  {
   "cell_type": "markdown",
   "metadata": {},
   "source": [
    "#### Explication de la fonction `odeint`\n",
    "\n",
    "La fonction `odeint` permet d'intégrer un système d'équation différentiel ordinaire.\n",
    "\n",
    "Elle prends en argument le système d'équations différentielles des geodésiques, et les conditions initiales de la simulation. La solution (le trajectoire) est alors unique.\n",
    "\n",
    "Elle renvoie les solutions de l'évolution du temps $t$, du rayon $r$, de l'angle $\\varphi$ et de la vitesse $\\dot r$ dans le référentiel du temps propre $\\tau$.\n",
    "\n",
    "<div class=\"alert alert-block alert-success\"> \n",
    "À finir hehe\n",
    "</div>"
   ]
  },
  {
   "cell_type": "markdown",
   "metadata": {},
   "source": [
    "\n",
    "Après avoir résolu le système, il sera possible de convertir les coordonnées sphériques en coordonnées cartésiennes et tracer la trajectoire dans le plan 2D.\n",
    "\n",
    "En faisant varier les différents paramètres (masse $M$, position initial $\\vec r_0$ ou vitesse initiale $\\dot{\\vec{r_0}}$,...), on pourrait dans un premier temps chercher à établir des trajectoires elliptiques, mouvement du périhélie, les orbites stables et instables. Puis, on pourrait également étudier le comportement de la lumière proche de l'horizon des événements (effet de lentille, décalage vers le rouge...). \n",
    "<!-- La phrase \"on pourrait dans un premier temps chercher à établir des trajectoires elliptiques, mouvement du périhélie\" est un peu floue, il faudrait la reformuler -->"
   ]
  },
  {
   "cell_type": "markdown",
   "metadata": {},
   "source": [
    "\n",
    "#### Conditions initiales\n",
    "\n",
    "Les conditions initiales peuvent être définies de deux manières : soit dans le référentiel d’un observateur distant en utilisant le temps t, soit en utilisant les quantités exprimées par rapport au temps propre $\\tau$. Ce choix est délicat : en relativité générale, des observateurs situés à différents endroits perçoivent des événements différemment (non seulement en termes de décalage spatial). \n",
    "\n",
    "\n",
    "\n",
    "+ ##### Conditions initiales dans le référentiel d’un observateur distant\n",
    "\n",
    "On suppose que les conditions initiales données en input $(r_0,\\: \\varphi_0,\\: V_{r_0},\\: L_{0})$  sont définies dans le référentiel d’un observateur distant. La représentation graphique du mouvement n’a de sens que dans ce référentiel, car, par définition, l’objet est immobile dans son référentiel propre.\n",
    "\n",
    "\n",
    "Les expressions de la vitesse radiale et du moment angulaire L utilisées dans la fonction `odeint` ont définies à partir des dérivées par rapport au temps propre $\\tau$ ( $r^2\\frac{d\\varphi}{d\\tau }=L$ et $\\frac{dr}{d\\tau }=\\dot{r}$). Ces quantités ne correspondent donc pas à celles définies dans le référentiel d’un observateur distant. Puisque le mouvement est représenté dans ce dernier référentiel, il est plus logique de définir les conditions initiales par rapport à t et de remonter ensuite aux quantités exprimées en fonction de $\\tau$.\n",
    "\n",
    "On peut retrouver les vitesses facilement grâce aux relations :\n",
    " \n",
    " $$\\begin{align*} \\frac{dr}{d\\tau}\\frac{d\\tau}{dt } = \\frac{dr}{dt }    \\Leftrightarrow  \\frac{dr}{d\\tau}=V_{r_0}\\dot{t}, \\\\ \\frac{d\\varphi}{d\\tau}\\frac{d\\tau}{dt }=\\frac{d\\varphi}{dt }  \\Leftrightarrow  \\frac{d\\varphi}{d\\tau}=V_{\\varphi_0}\\dot{t} \\end{align*}$$ \n",
    "\n",
    "Ainsi, on obtient :\n",
    "\n",
    " $$\\begin{align*} L_{\\tau}=r^2V_{\\varphi_0}\\dot{t}=L_{0}\\dot{t} \\end{align*}$$ \n",
    "\n",
    "\n",
    "Il reste à définir $\\dot{t}$: \n",
    "\n",
    "- Pour une particule massive (cas $\\mathcal L=\\frac{1}{2}$) :\n",
    "<!-- %%% par déduction c'est bien ça normalement (pitié que ce soit ça) -->\n",
    "$$ \\mathcal 1=\\left[\\left(1-\\frac{2M}{r_0}\\right)-\\left(1-\\frac{2M}{r_0}\\right)^{-1}V_{r_0}^2-r^2V_{\\varphi _0}^2\\right]\\dot{t}^2 $$\n",
    "\n",
    "\n",
    "Ce qui donne :\n",
    "\\begin{align*}\n",
    "    &\\dot{t}=\\left(\\left(1-\\frac{2M}{r_0}\\right)-\\left(1-\\frac{2M}{r_0}\\right)^{-1}V_{r_0}^2-\\frac{L_{0}}{r_{0}^2}\\right)^{\\frac{1}{2}}\n",
    "\\end{align*}\n",
    "\n",
    "$\\dot{t}$ etant un nombre réel, la quantité sous la racine doit être positive. Certaines valeurs de $r_0, V_{r_0} et L_{0}$ sont donc interdit. Pour simplifier on considere que $L_{0}=0$. On obtient alors une condition sur $V_{r_0}$ (en reintroduisant le facteur c et G) : \n",
    "\n",
    "\\begin{align*}\n",
    "    \\left(1-\\frac{2MG}{c^2r_0}\\right)c^2-\\left(1-\\frac{2MG}{c^2r_0}\\right)^{-1}V_{r_0}^2>0 \\Leftrightarrow \n",
    "    \\left(1-\\frac{2MG}{c^2r_0}\\right)c>V_{r_0}   \\tag{5}\n",
    "\\end{align*}\n",
    "\n",
    "On remarque qu’à proximité du rayon de Schwarzschild ($\\frac{2MG}{c^2r_0}$->1), la vitesse apparente $V_{r_0}$ tend vers 0.  Pour un observateur distant, l’objet semble ralentir et s’arrêter au rayon de Schwarzschild, sans jamais le franchir.\n",
    "\n",
    "Ci-dessous, une représentation de l’évolution du rapport $\\frac{dt}{d\\tau}$ pour un rayon r fixe. Pour une vitesse $V_{r0}$ assez ellevee on atteigne la limite $V_{r_0}=\\left(1-\\frac{2MG}{c^2r_0}\\right)c$ . Cela signifie qu’une vitesse supérieure n’est pas autorisée à cette distance du rayon de Schwarzschild.\n"
   ]
  },
  {
   "cell_type": "markdown",
   "metadata": {},
   "source": [
    "\n",
    "![SegmentLocal](dt_dtau_graphe.png)"
   ]
  },
  {
   "cell_type": "markdown",
   "metadata": {},
   "source": [
    "+ #### Conditions initiales faisant intervenir le temps propre\n",
    "À ce stade, on pourrait se contenter de définir les conditions initiales (C.I.) dans le référentiel distant, en utilisant t, avant de les transformer en quantités dépendant de $\\tau$, ce qui permet de les injecter dans les équations différentielles exprimées en fonction de $\\tau$. Cette approche pose des difficultés dans certaines applications, notamment pour la recherche des orbites stables et instables.\n",
    "\n",
    "Un critère (développé dans la section suivante) permet de définir le rayon des orbites stables en fonction de la masse `M` et du moment cinétique $L$. On pourrait, dans un premier temps, déterminer les rayons de ces orbites en fonction de $L_{\\tau}$, puis calculer le moment cinétique dans le référentiel distant à l’aide de : $L_{0}=\\frac{L_{\\tau}}{\\dot{t}}$ .  Cependant, dans ce cas, les rayons des orbites stables obtenus ne correspondent plus aux mêmes configurations physiques, et l’on aboutit à des orbites d’un autre type.\n",
    "\n",
    "Il est donc nécessaire de calculer le rayon de l’orbite stable pour une valeur donnée de L, puis de représenter le mouvement en fonction de cette même valeur de L. Cela implique de spécifier directement les conditions initiales qui dépendent de $\\tau$ et non de t, avant de représenter le mouvement dans un référentiel distant en utilisant les quantités exprimées en fonction de $\\tau$.\n",
    "\n",
    "Cette approche garantit la cohérence, mais elle ne respecte plus les restrictions imposées par l’équation (5). Par conséquent, il devient possible de représenter des situations qui n’ont pas d’existence physique réelle."
   ]
  },
  {
   "cell_type": "markdown",
   "metadata": {},
   "source": [
    "\n",
    "#### Système différentiel\n",
    "\n",
    "Au final, on obtient à l'entrée: $(r_0,\\varphi_0,\\dot r_0, \\dot \\varphi_0)$. On peut exprimer le système différentielle par 4 relation d'incrémentation à utiliser dans `odeint` : \n",
    "\n",
    "\\begin{align*}\n",
    "&\\frac{dt}{d\\tau}=E\\left(1-\\frac{2M}{r}\\right)^{-1}&\\to\\text{increment } t\\\\\n",
    "&\\frac{dr}{d\\tau}=\\dot r&\\to\\text{increment } r\\\\\n",
    "&\\frac{d\\varphi}{d\\tau}=\\frac{L}{r^2}&\\to\\text{increment }\\varphi\\\\\n",
    "&\\frac{d\\dot r}{d\\tau}=-\\frac{M}{r^2}+\\frac{L^2}{r^3}\\left(1-\\frac{3M}{r}\\right)&\\to\\text{increment } \\dot r\n",
    "\\end{align*}\n",
    "\n"
   ]
  },
  {
   "cell_type": "markdown",
   "metadata": {},
   "source": [
    "## **2. Implémentation dans le code**\n",
    "\n",
    "Nous avons ainsi établi les équations différentielles qui gouvernent le mouvement, avec lesquelles nous pouvons simuler les trajectoires des objets pour différentes conditions initiales. \n",
    "\n",
    "On commence par importer les modules nécessaires. "
   ]
  },
  {
   "cell_type": "code",
   "execution_count": 1,
   "metadata": {},
   "outputs": [],
   "source": [
    "%matplotlib ipympl\n",
    "\n",
    "import numpy as np\n",
    "import matplotlib.pyplot as plt\n",
    "from matplotlib.animation import FuncAnimation\n",
    "from scipy.integrate import odeint\n",
    "from scipy.optimize import * # ? -> Nécessaire ?\n",
    "import sys"
   ]
  },
  {
   "cell_type": "markdown",
   "metadata": {},
   "source": [
    "On definit une fonction `geodesics` prise en argument par `odeint`, correspondant au système d'équation différentielles de notre trajectoire. \n",
    "\n"
   ]
  },
  {
   "cell_type": "code",
   "execution_count": 2,
   "metadata": {},
   "outputs": [],
   "source": [
    "def geodesics(y, tau, L, E, M):\n",
    "\n",
    "    t0, r, phi, r_dot= y  # y porte le valeurs de temps, rayon, phi, vitesse radiale (derivee par rapport a tau)\n",
    "    dt_dtau = E / (1 - 2 * M / r) # Incrémentation du temps\n",
    "    dr_dtau = r_dot # Incrémentation de la vitesse radiale\n",
    "    dphi_dtau = L / r**2 # Incrémentation de la vitesse selon phi\n",
    "    drdot_dtau = -(M / r**2) + (L**2 / r**3) - (3 * M * L**2) / r**4 # Incrémentation l'accélération radiale \n",
    "    \n",
    "    return [dt_dtau, dr_dtau, dphi_dtau, drdot_dtau]"
   ]
  },
  {
   "cell_type": "markdown",
   "metadata": {},
   "source": [
    "<div class=\"alert alert-block alert-success\"> \n",
    "Définir clairement ce qu'on veut mentionner pour les conditions initiales\n",
    "</div>\n",
    "\n",
    "On peut alors définir nos conditions initiales (on choisit de définir directement les quantités faisant intervenir $\\tau$).\n",
    "\n",
    "On calcules les constantes de mouvement, energie $E$ et moment cinetique $L$. On peut normaliser la masse à 1 ; dans ce cas, le rayon est également sans unité. Compte tenu du choix précédent d’unités, on devrait en réalité remplacer\n",
    "\n",
    "$$M \\text{ [sans unites]} \\to \\frac{M_\\text{vrai}G}{c^2} \\:[L]$$\n",
    "  et $$r \\text{[sans unites]} -> r*M_\\text{{vrai}}[L] $$\n"
   ]
  },
  {
   "cell_type": "code",
   "execution_count": 3,
   "metadata": {},
   "outputs": [
    {
     "name": "stderr",
     "output_type": "stream",
     "text": [
      "C:\\Users\\klara\\AppData\\Local\\Temp\\ipykernel_8164\\2342097309.py:16: ODEintWarning: Excess work done on this call (perhaps wrong Dfun type). Run with full_output = 1 to get quantitative information.\n",
      "  sol = odeint(geodesics, y0, tau, args=(L, E, M,))\n"
     ]
    }
   ],
   "source": [
    "r = 3.1 # rayon initial\n",
    "v_r = 0 # initialisation de la vitesse radiale (dr_dtau)\n",
    "t0 = 0\n",
    "phi0 = 0\n",
    "M = 1\n",
    "\n",
    "L = 9*9*0.05 # initaialisation de moment cinetique (r^2*d_phi/d_tau)\n",
    "E = np.sqrt((1 - 2 * M / r) * (1 + L**2 / r**2)) # calcule d'energie totale\n",
    "\n",
    "y0 = [t0, r, phi0, v_r] \n",
    "\n",
    "tau = np.linspace(0, 100, 10000) # défini l'intervalle de temps choisi pour la simulation\n",
    "\n",
    "# ! Constant uniquement pour orbite circulaire -- Qui est constant??\n",
    "\n",
    "sol = odeint(geodesics, y0, tau, args=(L, E, M,))\n",
    "sol_t0, sol_r, sol_phi, sol_r_dot = sol[:, 0], sol[:, 1], sol[:, 2], sol[:, 3]"
   ]
  },
  {
   "cell_type": "markdown",
   "metadata": {},
   "source": [
    "#### Note sur les unités de $r$ et $t$\n",
    "\n",
    "En considérant la masse du Soleil $M_\\odot=2\\cdot10^{30}$ kg, on réexprimer l'unite du rayon $r$ et du temps $t$ :\n",
    "\n",
    "$$\n",
    "\\begin{gather}\n",
    "r=r_\\odot=\\frac{M_\\odot G}{c^2}=1.48 \\text{ km}\\\\\n",
    "\n",
    "t=t_\\odot=\\frac{r_\\odot}{c}=4.94 \\:\\mu\\text{s}\n",
    "\\end{gather}\n",
    "$$\n",
    "\n"
   ]
  },
  {
   "cell_type": "markdown",
   "metadata": {},
   "source": [
    "# **3. Études des trajectoires stellaires autour du trou noir**"
   ]
  },
  {
   "cell_type": "markdown",
   "metadata": {},
   "source": [
    "### 3.1 L'expression du potentiel\n",
    "Dans le cas général, le potentiel s'écrit :\n",
    "\n",
    "$U = \\left(\\frac{2M}{r}-1\\right)\\left(-\\mathcal L -\\frac{1}{2}\\frac{L^2}{r^2}\\right)\\\\ \\Leftrightarrow \n",
    "U  = -\\frac{2M}{r}\\mathcal L + \\mathcal L -\\frac{ML^2}{r^3} + \\frac{1}{2}\\frac{L^2}{r^2}\\\\$\n",
    "\n",
    "Pour une particule massive, cela peut se réécrire (à une constante près) : \n",
    "\n",
    "$U  = -\\frac{2M}{r} -\\frac{ML^2}{r^3} + \\frac{1}{2}\\frac{L^2}{r^2}\\\\$\n",
    "\n",
    "On peut identifier les différents termes dans cette expression et les associer aux forces connues.\n",
    "\n",
    "Ainsi, le terme $-\\frac{2M}{r}$ est le terme du potentiel gravitationnel newtonien. Le terme répulsif $\\frac{1}{2}\\frac{L^2}{r^2}$ correspond à la force centrifuge.\n",
    "\n",
    "C'est le terme $-\\frac{ML^2}{r^3}$ caractéristique de la relativité générale, qui provient de la courbure de l'espace-temps. À courte distance (r petit), cette force devient significative et modifie les orbites par rapport à celles prévues par la mécanique classique. C'est ainsi que l'anomalie de la précession de Mercure a été expliquée en 1859 (le potentiel propre à la relativité générale induit un écart de position par rapport aux prédictions newtoniennes).\n",
    "\n",
    "\n",
    "\n",
    "<img src=\"figures/L_geq_12M.png\" alt=\"a\" width=\"40%\">\n",
    "<img src=\"figures/L_l_12M.png\" alt=\"b\" width=\"42.5%\">\n",
    "\n",
    "\n",
    "<div class=\"alert alert-block alert-success\"> \n",
    "Les images plus tard?\n",
    "</div>"
   ]
  },
  {
   "cell_type": "markdown",
   "metadata": {},
   "source": [
    "### 3.2 Cas d'une particule massive : $\\mathcal L = \\frac{1}{2}$"
   ]
  },
  {
   "cell_type": "markdown",
   "metadata": {},
   "source": [
    "Pour le cas d'une étoile, nous considérons le modèle d'une \"particule\" massive, avec $\\mathcal L = \\frac{1}{2}$\n",
    "\n",
    "Pour ce modèle, l'expression du potentiel s'écrit :\n",
    "\n",
    "$$\\begin{align*}\n",
    "U & = -\\frac{2M}{r}\\mathcal L + \\mathcal L -\\frac{ML^2}{r^3} + \\frac{1}{2}\\frac{L^2}{r^2}\\\\\n",
    "U & = \\frac{1}{2}\\left(1-\\frac{2M}{r}\\right)\\left(1 + \\frac{L^2}{r^2}\\right)\\\\\n",
    "\\end{align*}\n",
    "$$\n",
    "\n",
    "On cherche alors les solutions des racines de la dérivée du potentielle, afin de connaître les rayons d'orbite circulaire, soit\n",
    "\n",
    "$$\n",
    "\\frac{dU}{dr}=0\\iff \\frac{M}{r^2}-\\frac{L^2}{r^3}+\\frac{3ML^2}{r^4}=0\\\\\n",
    "\\iff Mr^2-rL^2+3ML^2=0\n",
    "$$\n",
    "\n",
    "On résoud alors les racines de ce polynôme de degré 2 :\n",
    "\n",
    "$$\n",
    "\\Delta = L^2(L^2-12M^2)\\\\\n",
    "\\boxed{r_\\pm = \\frac{L^2\\pm \\sqrt{\\Delta}}{2M}}\\text{ si $L\\geq \\sqrt{12}M$, sinon pas de solution}\n",
    "$$\n",
    "\n",
    "On a alors deux cas :\n",
    "\n",
    "- $L \\geq \\sqrt{12}M$ : Deux orbites circulaires de rayon $r_\\pm = \\dfrac{L^2\\pm \\sqrt{\\Delta}}{2M}$\n",
    "\n",
    "- $L < \\sqrt{12}M$ : Pas de racine $\\to$ aucune orbite circulaire\n",
    "\n",
    "Nous commencerons par étudier le premier cas.\n"
   ]
  },
  {
   "cell_type": "markdown",
   "metadata": {},
   "source": [
    "#### 3.2.1 Cas $L \\geq \\sqrt{12}M$\n",
    "\n",
    "Graphons l'évolution de l'énergie potentielle en fonction du rayon pour les valeurs $M = 3$ et $L = 1.2\\times \\sqrt{12}M$ :\n",
    "\n",
    "<div style=\"text-align: center;\">\n",
    "    <img src=\"figures/Ep_etoile.png\" width=\"60%\">\n",
    "</div>\n",
    "\n",
    "<!-- On peut voir que l'étoile possède deux rayons stable, un méta-stable proche du trou noir de rayon $r_- \\in \\:]3M,6M[$ \n",
    "\n",
    "$r_\\pm = \\frac{L^2\\pm \\sqrt{\\Delta}}{2M}$ -->\n",
    "\n",
    "À l'aide du schéma, on repère 4 situations possibles :\n",
    "\n",
    "- $r < r_-$\n",
    "    - La particule chute à l’intérieur du trou noir sans pouvoir s’en échapper\n",
    "- $r = r_-$\n",
    "    - Orbite stable (aussi circulaire si $v_r=0$)\n",
    "- $r \\in ]r_-,r_+[$\n",
    "    - Orbite stable  \n",
    "- $r = r_+$\n",
    "    - Orbite stable (aussi circulaire si $v_r=0$)\n",
    "- $r > r_+$\n",
    "    - Oscillation autour du trou noir durant son orbite mais sans jamais pouvoir tomber dedans ni s’en échapper\n",
    "- $r=(r_-)^+$ : la trajectoire va sembler s’éloigner du trou noir, mais réalise en réalité juste une orbite très très grande au vu du son énergie potentielle élevé\n",
    "\n",
    "<div class=\"alert alert-block alert-success\"> \n",
    "Revoir</div>\n",
    "\n",
    "\n"
   ]
  },
  {
   "cell_type": "markdown",
   "metadata": {},
   "source": [
    "#### 3.2.2 Cas $L < \\sqrt{12}M$\n",
    "\n",
    "- $L < \\sqrt{12}M$ : Pas de racine $\\to$ aucune orbite circulaire\n",
    "\n",
    "On graphe l'expression du potentielle résultant : \n",
    "\n",
    "![SegmentLocal](\"L_l_12M.png\")\n",
    "\n",
    "<img src=\"L_l_12M.png\" alt=\"b\" width=\"42.5%\">\n",
    "\n",
    "Ainsi, il n'existe ni d'orbite circulaire ni d'orbite stable dans cette situation. Si le moment cinétique $L$ est trop faible, alors l'étoile (ou la particule) tombera forcément dans le trou noir."
   ]
  },
  {
   "cell_type": "markdown",
   "metadata": {},
   "source": [
    "On peut alors tester notre code pour les différentes valeurs particulières de $r$"
   ]
  },
  {
   "cell_type": "code",
   "execution_count": 4,
   "metadata": {},
   "outputs": [
    {
     "name": "stdout",
     "output_type": "stream",
     "text": [
      "Orbites stables : 3.952367610182651, 12.450132389817348\n"
     ]
    }
   ],
   "source": [
    "###################################\n",
    "### Valeurs initiales à imposer ###\n",
    "###################################\n",
    "\n",
    "tau = np.linspace(0, 100, 1000) # défini l'intervalle de temps choisi pour la simulation\n",
    "L = 9*9*0.05 # On choisit arbitrairement la valeur du moment cinétique\n",
    "M = 1 # M en unité de masse solaire M_\\odot = 2e30\n",
    "\n",
    "#############################################\n",
    "### Recherche des valeurs d'orbite stable ###\n",
    "#############################################\n",
    "\n",
    "Lagr = 1/2 # Choix du cas particule massive ou photon (Lagr=0)\n",
    "\n",
    "if Lagr == 1/2:\n",
    "    if L >= (12)**(1/2)*M:\n",
    "        r_moins=((L**2-np.sqrt(L**4-12*(M**2)*L**2))/2/M) # rayon stable le plus proche de l'étoile\n",
    "        r_plus=((L**2+np.sqrt(L**4-12*(M**2)*L**2))/2/M) # rayon stable le plus éloigné de l'étoile\n",
    "        print(f\"Orbites stables : {r_moins}, {r_plus}\")\n",
    "    else:\n",
    "        print(\"Pas de racine\") # cela signifie que l'étoile tombera forcément dans le trou noir\n",
    "\n",
    "elif Lagr == 0:\n",
    "    orb_stable = 3*M\n",
    "    print(f\"Orbite stable pour r = {orb_stable}\")"
   ]
  },
  {
   "cell_type": "markdown",
   "metadata": {},
   "source": [
    "### Exemples de differantes trajectoires\n",
    "\n",
    "Ici, nous présentons les représentations 2D des trajectoires pour les quatres types de rayons. Le code de notre simulation est affiché ci-dessous. Cependant, en raison de la qualité réduite des représentations dans Jupyter Notebook, il est préférable de montrer les GIF générés à l'aide du script Python"
   ]
  },
  {
   "cell_type": "markdown",
   "metadata": {},
   "source": [
    "+ $r < r_-$ : La chute de la particule dans le trou noir. La dernière partie de la trajectoire semble droite, mais ce n'est pas le cas en réalité. En effet, cela est dû à un pas d'animation trop grand par rapport à la vitesse acquise par la particule. En réalité, on considérerait que la particule atteint le trou noir en franchissant le rayon de Schwarzschild (ici $R_s = 2$). Dans notre modèle, le trou noir est représenté comme un objet ponctuel\n"
   ]
  },
  {
   "cell_type": "markdown",
   "metadata": {},
   "source": [
    "![SegmentLocal](t_r_moins.gif)"
   ]
  },
  {
   "cell_type": "markdown",
   "metadata": {},
   "source": [
    "- $r = r_-$ et $r = r_+$ : orbite stable circulaire\n"
   ]
  },
  {
   "cell_type": "markdown",
   "metadata": {},
   "source": [
    "![SegmentLocal](t2_r_moins.gif)"
   ]
  },
  {
   "cell_type": "markdown",
   "metadata": {},
   "source": [
    "- $r = r_- \\in ]3M,6M[$ : orbite stable, trajectoire forme des rosaces"
   ]
  },
  {
   "cell_type": "markdown",
   "metadata": {},
   "source": [
    "![SegmentLocal](t_r_inter.gif)"
   ]
  },
  {
   "cell_type": "markdown",
   "metadata": {},
   "source": [
    "+ anomalie"
   ]
  },
  {
   "cell_type": "markdown",
   "metadata": {},
   "source": [
    "Le code utilisé: "
   ]
  },
  {
   "cell_type": "code",
   "execution_count": null,
   "metadata": {},
   "outputs": [
    {
     "data": {
      "application/vnd.jupyter.widget-view+json": {
       "model_id": "a3167bd7f0914a2bbfdc17647165cede",
       "version_major": 2,
       "version_minor": 0
      },
      "image/png": "[encoded data removed]",
      "text/html": [
       "\n",
       "            <div style=\"display: inline-block;\">\n",
       "                <div class=\"jupyter-widgets widget-label\" style=\"text-align: center;\">\n",
       "                    Figure\n",
       "                </div>\n",
       "                <img src='data:image/png;base64,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' width=640.0/>\n",
       "            </div>\n",
       "        "
      ],
      "text/plain": [
       "Canvas(toolbar=Toolbar(toolitems=[('Home', 'Reset original view', 'home', 'home'), ('Back', 'Back to previous …"
      ]
     },
     "metadata": {},
     "output_type": "display_data"
    }
   ],
   "source": [
    "\n",
    "###############################################\n",
    "### Initialisation des conditions initiales ###\n",
    "###############################################\n",
    "r = r_moins # rayon initial\n",
    "v_r = 0 # initialisation de la vitesse radiale (dr_dtau)\n",
    "t0 = 0\n",
    "phi0 = 0\n",
    "M = 1\n",
    "\n",
    "L = 9*9*0.05 # initaialisation de moment cinetique (r^2*d_phi/d_tau)\n",
    "E = np.sqrt((1 - 2 * M / r) * (1 + L**2 / r**2)) # calcule d'energie totale\n",
    "\n",
    "y0 = [t0, r, phi0, v_r] \n",
    "\n",
    "#############################################\n",
    "### Résolution des équa diff du mouvement ###\n",
    "#############################################\n",
    "\n",
    "sol = odeint(geodesics, y0, tau, args=(L, E, M,))\n",
    "sol_t0, sol_r, sol_phi, sol_r_dot = sol[:, 0], sol[:, 1], sol[:, 2], sol[:, 3]\n",
    "\n",
    "####################################################################\n",
    "### Projection des solutions polaires en coordonnées cartésienne ###\n",
    "####################################################################\n",
    "\n",
    "x_sol =  sol_r * np.cos(sol_phi)\n",
    "y_sol =  sol_r * np.sin(sol_phi)\n",
    "\n",
    "\n",
    "# Création de la figure et des axes\n",
    "fig, ax1 = plt.subplots()\n",
    "ax1.set_xlabel(\"x\")\n",
    "ax1.set_ylabel(\"y\")\n",
    "ax1.set_title(\"Évolution d'une trajectoire 2D\")\n",
    "\n",
    "# Délimitation des axes pour s'assurer d'observer correctement la trajectoire\n",
    "ax1.set_xlim(np.min(x_sol)*1.05, np.max(x_sol)*1.05)\n",
    "ax1.set_ylim(np.min(y_sol)*1.05, np.max(y_sol)*1.05)\n",
    "\n",
    "# Initialisation de l'objet graphique\n",
    "line, = ax1.plot([], [], lw=2, label=\"Trajectoire\")\n",
    "point, = ax1.plot([], [], 'ro')  # Point pour la position actuelle\n",
    "\n",
    "\n",
    "# Dessiner le trou noir comme un point noir au centre\n",
    "ax1.plot(0, 0, 'o', color='black', markersize=8, label='Trou noir')  # Marqueur noir au centre\n",
    "#ax1.legend()\n",
    "\n",
    "# Fonction d'initialisation\n",
    "def init():\n",
    "    line.set_data([], [])\n",
    "    point.set_data([], [])\n",
    "    return line, point\n",
    "\n",
    "def update(frame):\n",
    "    # Mise à jour des trajectoires\n",
    "    line.set_data(x_sol[:frame], y_sol[:frame])  # Trajectoie\n",
    "    point.set_data([x_sol[frame]], [y_sol[frame]])  # Point représentant la particule / l'étoile\n",
    "    return line, point\n",
    "\n",
    "show_animation = True\n",
    "\n",
    "if show_animation:\n",
    "    ani = FuncAnimation(fig, update, frames=len(sol_t0), init_func=init, blit=True, interval=20)\n",
    "    plt.gca().set_aspect('equal')\n",
    "    plt.grid(True)\n",
    "\n",
    "else:\n",
    "    fig, ax2 = plt.subplots()\n",
    "    ax2.plot(0, 0, 'o', color='black', markersize=8, label='Trou noir')  # Marqueur noir au centre\n",
    "    plt.plot(x_sol, y_sol)\n",
    "    ax2.set_aspect(aspect=\"equal\")\n",
    "    plt.grid(True)\n",
    "    plt.show()\n"
   ]
  },
  {
   "cell_type": "markdown",
   "metadata": {},
   "source": [
    "### Cas de la lumière : $\\mathcal L = 0$"
   ]
  },
  {
   "cell_type": "markdown",
   "metadata": {},
   "source": [
    "L'expression du potentiel s'écrit :\n",
    "\n",
    "$$\\begin{align*}\n",
    "U & = -\\frac{2M}{r}\\mathcal L + \\mathcal L -\\frac{ML^2}{r^3} + \\frac{1}{2}\\frac{L^2}{r^2}\\\\\n",
    "U & = \\frac{L^2}{2r^2}\\left(1-\\frac{2M}{r}\\right)\\\\\n",
    "\\end{align*}\n",
    "$$\n",
    "\n",
    "On cherche alors les solutions des racines de la dérivée du potentielle, afin de connaître les rayons d'orbite stable, soit\n",
    "\n",
    "$$\n",
    "\\frac{dU}{dr}=0\\iff \\frac{L^2}{r^3}(\\frac{3M}{r}-1)=0\\\\\n",
    "\n",
    "$$\n",
    "\n",
    "La seule orbite stable $r=3M$ est alors independante de L. Il s’agit du sphere de photon: c'est la seule surface (ici: un circle) où le photon emis peut suivre une orbite stable, et donc reste autour du trou noir sans s’en échapper ni tomber dedans. Pour tout rayon < 3M le photon doit necessairemnt tomber dans le trou noir. Pour r > 3M le photon s'echappe de l’attraction du trou noir et s’éloigner à l’infini.\n",
    "\n",
    "<img src=\"figures/potentiel_lum.png\" width=\"40%\">\n",
    "\n",
    "\n",
    "\n",
    "<ins>Description physique</ins> :\n",
    "\n",
    "- Les rayons lumineux suivent aussi des géodésiques.\n",
    "- Déviation de la lumière par une masse centrale : lentille gravitationnelle.\n",
    "- Capture ou orbite photonique proche du trou noir.\n",
    "\n",
    "<ins>Code associé</ins> :\n",
    "\n",
    "- Fonction de calcul de trajectoire des rayons lumineux :\n",
    "- Conditions initiales : angle d'incidence, distance minimale au centre.\n",
    "- Variables : masse du trou noir, rayon de Schwarzschild.\n",
    "- Simulation de la déviation et des orbites photoniques.\n",
    "\n",
    "![test](figures/potentiel_lum.png)\n",
    "\n",
    "<ins>Lien avec la réalité physique</ins> :\n",
    "\n",
    "- Observation expérimentale des lentilles gravitationnelles dans l'univers (par exemple, Einstein Cross).\n",
    "- Effet de capture des rayons lumineux au-delà d’un certain rayon critique."
   ]
  },
  {
   "cell_type": "markdown",
   "metadata": {},
   "source": [
    "![SegmentLocal](t_photon.gif)"
   ]
  },
  {
   "cell_type": "markdown",
   "metadata": {},
   "source": [
    "# III. Mesure des énergies cinétique et potentielle\n",
    "\n",
    "On calcule l'énergie potentielle \n",
    "\n",
    "$$U= \\left(\\frac{2M}{r} - 1\\right) \\times \\left(-\\frac{1}{2}- \\mathcal{L}\\left(\\frac{L}{r}\\right)^2\\right)$$\n",
    "\n",
    "avec le lagrangien $\\mathcal L = \\begin{cases}\\frac{1}{2}\\text{ pour une particule massive}\\\\0 \\text{ pour un photon}\\end{cases}$"
   ]
  },
  {
   "cell_type": "markdown",
   "metadata": {},
   "source": [
    "# IV. Effet du redshift gravitationnel"
   ]
  },
  {
   "cell_type": "markdown",
   "metadata": {},
   "source": [
    "## 1. Calcul du redshift"
   ]
  },
  {
   "cell_type": "markdown",
   "metadata": {},
   "source": [
    "### Résumé\n",
    "\n",
    "<ins>Description physique</ins> :\n",
    "\n",
    "Quand la lumière s'éloigne d'une source massive, sa longueur d'onde augmente (redshift).\n",
    "\n",
    "Interprétation : perte d'énergie de la lumière due à la courbure de l'espace-temps.\n",
    "\n",
    "<ins>Code associé</ins> :\n",
    "\n",
    "Fonction de calcul du redshift gravitationnel :\n",
    "\n",
    "Paramètres : position initiale et finale, masse centrale.\n",
    "\n",
    "Résultat : valeur du redshift $z$.\n",
    "\n",
    "Affichage des résultats et interprétation physique.\n",
    "\n",
    "<ins>Lien avec la réalité physique</ins> :\n",
    "\n",
    "Confirmation expérimentale : mesure du redshift dans des systèmes proches d'objets massifs (étoiles à neutrons, trous noirs)."
   ]
  },
  {
   "cell_type": "markdown",
   "metadata": {},
   "source": [
    "### Redshift gravitationnel\n",
    "\n",
    "In the theory of general relativity, there is time dilation within a gravitational well. This is known as the gravitational redshift or Einstein Shift.[45] The theoretical derivation of this effect follows from the Schwarzschild solution of the Einstein equations which yields the following formula for redshift associated with a photon traveling in the gravitational field of an uncharged, nonrotating, spherically symmetric mass\n",
    "\n",
    "\n",
    "$$ 1 + z = \\frac{1}{1-\\sqrt{\\dfrac{2GM}{rc^2}}}  = \\frac{1}{1-\\sqrt{\\dfrac{R_S}{r}}} $$\n",
    "avec $R_S= \\dfrac{2GM}{c^2}$ le rayon de Schwarzschild\n",
    "\n",
    "Comme on considère ici notre $M$ un facteur de $M_0=2\\cdot 10^{30}$ la masse du soleil, et $G=c=1$, on calcule dans notre code le redshift tel que\n",
    "\n",
    "$$ z = \\frac{1}{1-\\sqrt{\\dfrac{2M}{r}}} - 1 $$\n"
   ]
  },
  {
   "cell_type": "code",
   "execution_count": 6,
   "metadata": {},
   "outputs": [],
   "source": [
    "def redshift(r): # ? Est ce qu'on l'exprime comme décalage relatif ou est ce qu'on laisse les valeurs ?\n",
    "    \"\"\"\n",
    "    Retourne une liste du redshift de la longueur d'onde d'émission au cours du temps\n",
    "    \"\"\"\n",
    "    # G = 6.67 * 1e-11\n",
    "    # c = 3 * 1e8\n",
    "    \n",
    "    # Calcul du redshift gravitationnel\n",
    "    z = 1/np.sqrt(1 - 2*M/r) - 1\n",
    "    \n",
    "    return z"
   ]
  },
  {
   "cell_type": "markdown",
   "metadata": {},
   "source": [
    "# V. Comparaison entre Newton et Einstein"
   ]
  },
  {
   "cell_type": "markdown",
   "metadata": {},
   "source": [
    "\n",
    "\n",
    "Dans le cadre classique l'expression du potentiel peut se reecrire en excluant le terme relativiste: \n",
    "\n",
    "$U  = -\\frac{2M}{r} + \\frac{1}{2}\\frac{L^2}{r^2}\\\\$\n",
    "\n",
    "Les solutions sont donnes par les extrema du potentiel:\n",
    "$$\n",
    "\\frac{dU}{dr}=0\\iff \\frac{1}{r^2}(2M-\\frac{L^2}{r})=0\\\\$$\n",
    "\n",
    "On remarque qu'une orbite stable est toujour definie, independament des conditions initialles, $r=\\frac{L^2}{2M}$\n",
    "\n",
    "\n",
    "\n",
    "\n",
    "\n",
    "\n",
    "\n",
    "\n",
    "<ins>Synthèse</ins> :\n",
    "\n",
    "- Trajectoires planétaires : newtoniennes (ellipses parfaites) vs relativistes (précession).\n",
    "- Lumière : absence de déviation dans Newton, déviation dans Einstein.\n",
    "- Effets observables uniquement en relativité générale : redshift gravitationnel, orbites photoniques.\n",
    "\n",
    "<ins>Visualisation dans le code</ins> :\n",
    "\n",
    "- Superposition des trajectoires simulées dans les deux cadres théoriques.\n",
    "- Analyse des différences dans les résultats."
   ]
  },
  {
   "cell_type": "markdown",
   "metadata": {},
   "source": [
    "### Comparaison\n",
    "\n",
    "<ins>Synthèse</ins> :\n",
    "\n",
    "- Trajectoires planétaires : newtoniennes (ellipses parfaites) vs relativistes (précession).\n",
    "- Lumière : absence de déviation dans Newton, déviation dans Einstein.\n",
    "- Effets observables uniquement en relativité générale : redshift gravitationnel, orbites photoniques.\n",
    "\n",
    "<ins>Visualisation dans le code</ins> :\n",
    "\n",
    "- Superposition des trajectoires simulées dans les deux cadres théoriques.\n",
    "- Analyse des différences dans les résultats."
   ]
  },
  {
   "cell_type": "markdown",
   "metadata": {},
   "source": [
    "![SegmentLocal](newton.gif)"
   ]
  },
  {
   "cell_type": "markdown",
   "metadata": {},
   "source": [
    "## Comparaison à la mécanique newtonnienne classique\n",
    "\n",
    "En rajoutant une fonction $\\tt{geodesics\\_classical}$ permet de calculer la trajectoire de l'objet autour du trou noir dans le cas où l'on ne considère pas de terme relativiste. \n",
    "\n",
    "On voit alors que l'on trouve une orbite elliptique stable, restant la même tout le long de la simulation tandis que la trajectoire relativiste, l'objet tourne autour du trou noir tout au long de sa trajectoire."
   ]
  },
  {
   "cell_type": "markdown",
   "metadata": {},
   "source": []
  },
  {
   "cell_type": "markdown",
   "metadata": {},
   "source": [
    "# VI. Conclusion et perspective"
   ]
  },
  {
   "cell_type": "markdown",
   "metadata": {},
   "source": [
    "### Conclusion \n",
    "\n",
    "<ins>Résumé des phénomènes simulés</ins> :\n",
    "\n",
    "- Importance de la relativité générale pour expliquer des observations astrophysiques.\n",
    "- Réussite du projet : mise en évidence des effets principaux (précession, déviation, redshift).\n",
    "\n",
    "<ins>Idées pour aller plus loin</ins> :\n",
    "\n",
    "- Étendre les simulations à des configurations plus complexes (trous noirs en rotation).\n",
    "- Étudier les perturbations (effet de plusieurs masses).\n",
    "- Approfondir l’analyse des lentilles gravitationnelles dans un contexte cosmologique."
   ]
  }
 ],
 "metadata": {
  "kernelspec": {
   "display_name": "Python 3",
   "language": "python",
   "name": "python3"
  },
  "language_info": {
   "codemirror_mode": {
    "name": "ipython",
    "version": 3
   },
   "file_extension": ".py",
   "mimetype": "text/x-python",
   "name": "python",
   "nbconvert_exporter": "python",
   "pygments_lexer": "ipython3",
   "version": "3.10.11"
  }
 },
 "nbformat": 4,
 "nbformat_minor": 2
}
