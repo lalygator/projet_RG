{
 "cells": [
  {
   "cell_type": "markdown",
   "metadata": {},
   "source": [
    "### Projet UE Informatique L3 Physique : Laly Boyer, Klara Piotrowska"
   ]
  },
  {
   "cell_type": "markdown",
   "metadata": {},
   "source": [
    "# **Relativité Générale - Étude du mouvement d'une étoile autour d'un trou noir de Schwarzschild**"
   ]
  },
  {
   "cell_type": "markdown",
   "metadata": {},
   "source": [
    "# **Table des matières**\n",
    "\n",
    "# ! Mettre à jour la table des matières et mettre au propre\n",
    "\n",
    "## [I. Introduction](#introduction)\n",
    "\n",
    "### [I/1. Objectifs](#objectifs-principaux)\n",
    "\n",
    "## [II. Études des géodésiques en 2D sur une surface courbe](#2-étude-des-géodésiques-en-2d-sur-une-surface-courbe)\n",
    "### [II/1. Les outils mathématiques de la relativité générale](#1-les-outils-mathématiques-de-la-relativité-générale)\n",
    "### [II/2. implémentation dans le code](#2-implémentation-dans-le-code)\n",
    "### [II/3. Études des trajectoires stellaires autour du trou noir](#3-études-des-trajectoires-stellaires-autour-du-trou-noir)\n",
    "\n",
    "\n",
    "## [III. Mesure des énergies cinétiques et potentiels](#iii-mesure-des-énergies-cinétique-et-potentielle)\n",
    "\n",
    "## [IV. Effet du redshift gravitationnel](#iv-effet-du-redshift-gravitationnel)\n",
    "\n",
    "## [V. Comparaison entre Newton et Einstein](#v-comparaison-entre-newton-et-einstein)\n",
    "\n",
    "## [VI. Conclusion et perspective](#vi-conclusion-et-perspective)"
   ]
  },
  {
   "cell_type": "markdown",
   "metadata": {},
   "source": [
    "# **Introduction**\n",
    "\n",
    "Lorsqu'une étoile, une particule ou un photon orbite autour d'un trou noir, des effets relativistes, dus à la métrique singulière des trous noirs, perturbent le modèle newtonien classique.\n",
    "\n",
    "Ces effets relativistes sont nombreux, incluant la précession des orbites, le redshift gravitationnel et les effets de lentille gravitationnelle, et permettent de comprendre la dynamique autour des trous noirs. Les trajectoires suivies par ces objets correspondent à des géodésiques, qui représentent les chemins les plus courts dans un espace-temps courbé.\n",
    "\n",
    "Pour les étudier, il est nécessaire de considérer les lois physiques spécifiques aux trous noirs de Schwarzschild et de les exprimer sous forme de fonctions mathématiques. Ces fonctions permettent de modéliser l'évolution temporelle de chaque paramètre de trajectoire.\n",
    "\n",
    "<!-- <img src=\"figures/blackhole_image.jpg\" alt=\"image_trou_noir\" style=\"width:20em;display:block; margin:auto;\"> -->\n"
   ]
  },
  {
   "cell_type": "markdown",
   "metadata": {},
   "source": [
    "### <ins>Objectifs principaux</ins>\n",
    "\n",
    "- Étudier les géodésiques dans différents contextes physiques.\n",
    "- Simuler des phénomènes spécifiques à la relativité générale comme le mouvement des planètes, le redshift gravitationnel, et la déviation de la lumière.\n",
    "\n",
    "Le but de notre projet est de **déterminer** et **analyser** la <ins>trajectoire d’un objet physique</ins> (par ex. une étoile ou un photon) <ins>autour d’un trou noir de Schwarzschild</ins>.\n",
    "\n",
    "<!-- <div class=\"alert alert-block alert-info\">\n",
    "<b>Définition:</b> Trou noir de Schwarzschild : trou noir de charge électrique et de moment cinétique nul.\n",
    "</div> -->\n",
    "\n",
    "Dans un premier temps, nous chercherons à représenter les différents types de trajectoire dans un plan 2D.Pour cela, nous aborderons les outils mathématiques de la relativite générale afin d'établir et résoudre numériquement les équations du mouvement dans la métrique de Schwarzschild.\n",
    "\n",
    "Ensuite, nous étudierons les phénomènes physiques liées aux précession, tel que :\n",
    "- L'évolution d'énergie d'objet\n",
    "- Le redshift de la lumière, et\n",
    "- L'inflexion de la lumière émise. \n",
    "\n",
    "Nous comparerons alors les résultats de notre simulation avec des résultats physiques, comme la sphère photonique autour des trous noirs, ou ???"
   ]
  },
  {
   "cell_type": "markdown",
   "metadata": {},
   "source": [
    "# II. Étude des géodésiques en 2D\n",
    "\n",
    "Nous commencerons par décrire les lois physiques dictant l'espace-temps autour d'un trou noir de Schwarzschild. Pour cela, nous décrirons les outils mathématiques nécessaires.\n",
    "<!-- \n",
    "<ins>Description physique</ins> :\n",
    "\n",
    "Description de la géodésique pour un trou noir de Schwarzschild\n",
    "(Une surface courbe sert d'analogie simplifiée de l'espace-temps.)\n",
    "\n",
    "<ins>Code associé</ins> :\n",
    "\n",
    "- Fonction de calcul des géodésiques en 2D :\n",
    "\n",
    "    - Explication de la fonction geodesics et odeint\n",
    "\n",
    "- Paramètres : coordonnées initiales, vecteurs vitesse, temps.\n",
    "\n",
    "- Résultat : trajectoire de la particule ou du rayon lumineux.\n",
    "\n",
    "- Comparaison avec des géodésiques connues (cercle maximal sur une sphère).\n",
    "\n",
    "<ins>Lien avec la réalité physique</ins> :\n",
    "\n",
    "Analogie entre les géodésiques sur une surface courbe et les trajectoires dans l'espace-temps courbé. -->\n"
   ]
  },
  {
   "cell_type": "markdown",
   "metadata": {},
   "source": [
    "## **1. Les outils mathématiques de la relativité générale**"
   ]
  },
  {
   "cell_type": "markdown",
   "metadata": {},
   "source": [
    "### 1.1 Métrique\n",
    "\n",
    "Afin de procéder à la résolution numérique d’un problème physique, nous devons d’abord spécifier les équations de mouvement dans l’espace en question. Ici, on veut effectuer une simulation dans l’espace définie par la __métrique de Schwarzschild__ (en coordonnées sphériques).\n",
    "\n",
    "*Cette métrique décrit le champ gravitationnel au voisinage externe d'un corps isolé, à symétrie sphérique, statique (sans rotation), non chargé et entouré de vide.*\n",
    "\n",
    "L'intervalle s'écrit alors :\n",
    "\n",
    "$$ds^2=-\\left(1-\\frac{2GM}{c^2r}\\right)c^2dt^2+\\left(1-\\frac{2GM}{c^2r}\\right)^{^{-1}}dr^2+r^2\\left(d\\theta^2 +sin(\\theta )d\\varphi ^2\\right)$$\n",
    "\n",
    "Afin de simplifier les calculs, nous choisisons d'utiliser les unités géométriques $G=c=1$. Il faudra néanmoins effectuer les substitutions $M \\to \\frac{MG}{c^2}$ et $dt \\to cdt$ dans le cas d'une application numérique, par exemple pour le calcul du redshift.\n",
    "\n",
    "Puisqu’on se place dans un plan défini par $\\theta$ constant et égale à $\\frac{\\pi}{2}$, on peut simplifier l’expression de l'intervalle $ds^2$ par :\n",
    "\n",
    "$$\\boxed{ds^2=-\\left(1-\\frac{2M}{r}\\right)dt^2+\\left(1-\\frac{2M}{r}\\right)^{^{-1}}dr^2+r^2d\\varphi^2}$$\n",
    "\n",
    "Pour simuler numériquement un tel espace, nous avons d’abord besoin d’établir les équations\n",
    "géodésiques, qui vont définir le chemin le plus court entre deux points de l’espace. Pour cela, nous allons résoudre les équations d’Euler Lagrange associées au système.\n"
   ]
  },
  {
   "cell_type": "markdown",
   "metadata": {},
   "source": [
    "### 1.2 Equations d’Euler Lagrange"
   ]
  },
  {
   "cell_type": "markdown",
   "metadata": {},
   "source": [
    "\n",
    "#### 1.2.1 Définition des équations\n",
    "\n",
    "Nous avons donc défini l'expression de l'intervalle de notre espace. Nous devons maintenant établir les équations du mouvement permettant de simuler un tel espace. Ces équations vont correspondent à des géodésiques, définissant le chemin le plus court entre deux points de l’espace.  \n",
    "\n",
    "Par définition les équations d’EL s’obtient en calculant les dérivés, dont dérivés par rapport au temps propre $\\tau$.\n",
    "\n",
    "Le temps $t$ est juste une des coordonnées de problème, donc ne joue pas le rôle particulier dans les dérivés. \n",
    "\n",
    "L’intervalle $ds$ (qui prend toujours le même valeur numérique pour une particule, il est invariant) et $\\tau$ le temps propre sont liées par la relation $-c^2\\times d\\tau^2=ds^2$.\n",
    "\n",
    "\n",
    "On résout les équations d’Euler-Lagrange: \n",
    "$$\\frac{d}{d\\tau }\\left(\\frac{\\partial \\mathcal {L}}{\\partial \\dot{q_{i}}}\\right)=\\frac{\\partial \\mathcal {L}}{\\partial{q_{i}}}$$\n",
    "\n",
    "avec $q_{i}$ les coordonées généralisées {$t, r, \\varphi$}, soit\n",
    "\n",
    "$$\n",
    "\n",
    "\\frac{d}{d\\tau }\\left(\\frac{\\partial \\mathcal {L}}{\\partial \\dot{t}}\\right)=\\frac{\\partial \\mathcal {L}}{\\partial{t}}\n",
    "\\qquad\n",
    "\n",
    "\\frac{d}{d\\tau }\\left(\\frac{\\partial \\mathcal {L}}{\\partial \\dot{r}}\\right)=\\frac{\\partial \\mathcal {L}}{\\partial{r}}\n",
    "\\qquad\n",
    "\n",
    "\\frac{d}{d\\tau }\\left(\\frac{\\partial \\mathcal {L}}{\\partial \\dot{\\varphi}}\\right)=\\frac{\\partial \\mathcal {L}}{\\partial{\\varphi}}\n",
    "\n",
    "\n",
    "$$\n",
    "\n",
    "Dans le cadre de la relativité générale, la dérivée temporelle classique est remplacée par la dérivée par rapport à $\\tau$, car le temps $t$ est une des coordonnées généralisées du problème. $\\tau$ est alors le temps propre au sens de la relativité restreinte que dans le cas où on se place dans le référentiel liée à la particule, donc où $dr=d\\varphi=0$. #Verifier\n",
    "\n",
    "Le lagrangien est défini comme: \n",
    "\n",
    "$$\\begin{align*}\\mathcal {L} &= -\\frac{1}{2}g_{\\mu \\nu }\\frac{dx^{\\mu }}{d\\tau }\\frac{dx^{\\nu  }}{d\\tau } \\\\      \\Leftrightarrow \\mathcal {L} &=  \\frac{1}{2}\\left(1 - \\frac{2M}{r}\\right) \\dot{t}^2 - \\frac{1}{2} \\left(1 - \\frac{2M}{r}\\right)^{-1}\\dot{r}^2 - \\frac{1}{2} r^2 \\dot{\\varphi}^2\\end{align*}$$ \n",
    "\n",
    " \n",
    "avec les vitesses :\n",
    "\n",
    "$$\\dfrac{dt}{d\\tau }=\\dot{t} \\qquad \\dfrac{d\\varphi}{d\\tau }=\\dot{\\varphi} \\qquad \\dfrac{dr}{d\\tau }=\\dot{r}\\quad (1)$$"
   ]
  },
  {
   "cell_type": "markdown",
   "metadata": {},
   "source": [
    "\n",
    "\n",
    "#### 1.2.2 Résolution\n",
    "/# Revoir cette partie le formatage est bizarre\n",
    "\n",
    "On obtient alors :\n",
    "\n",
    "+ $t$ et $\\varphi$ :\n",
    "\n",
    "\n",
    "Comme $t$ et $\\varphi$ sont des **variables cycliques**, elles donnent les constantes de mouvement $E$ et $L$ :  \n",
    "\n",
    "$$\\begin{gather} \\boxed{\\left(1-\\frac{2M}{r}\\right)\\dot{t} = E}\\tag{2} \\\\\n",
    "\\boxed{r^2\\dot{\\varphi} = L }\\tag{3}\\end{gather}$$ \n",
    "\n",
    "On interprète $E$ comme l'**énergie totale de la masse**, et $L$ le **moment cinétique**. Ces deux quantités sont alors **conservées**.\n",
    "\n",
    "+ $r$ :\n",
    "\n",
    "On obtient l'équation :\n",
    "$$\\frac{d\\dot{r}}{d\\tau }=-\\frac{M}{r^2}\\frac{E^2}{(1-\\frac{2M}{r})}+\\frac{L^2}{r^3}\\left({1-\\frac{M}{r}}\\right)+ \\frac{M}{r^2}\\frac{1}{({1-\\frac{M}{r}})}\\dot{r}^2$$  \n",
    "qui peut se réécrire comme: \n",
    "$$\\begin{equation}\\boxed{\\frac{d\\dot{r}}{d\\tau }=\\frac{-2M}{r^2}\\mathcal {L}+\\frac{L^2}{r^3}\\left(1-\\frac{3M}{r}\\right)}\\end{equation}\\tag{4}$$\n",
    "\n",
    "\n",
    "On choisit alors de fixer $ \\mathcal {L}=\\frac{1}{2}$ dans le cas de mouvement des **particules massives**, et à $\\mathcal L = 0$ dans le cas de la **lumière**.  On a donc:\n",
    "\n",
    "+ Pour la lumière $\\left(\\mathcal {L}=0\\right)$:\n",
    "\n",
    " $$\\frac{d\\dot{r}}{d\\tau}=\\frac{L^2}{r^3}\\left(1-\\frac{3M}{r}\\right)$$\n",
    "\n",
    "+ Pour une particule massive $\\left(\\mathcal {L}=\\frac{1}{2}\\right)$: \n",
    "\n",
    "$$\\frac{d\\dot{r}}{d\\tau}=\\frac{-M}{r^2}+\\frac{L^2}{r^3}\\left(1-\\frac{3M}{r}\\right)$$"
   ]
  },
  {
   "cell_type": "markdown",
   "metadata": {},
   "source": [
    "### 1.3 Résolution numérique\n",
    "\n",
    "\n",
    "Nous avons ainsi établi les équations différentielles qui déterminent le mouvement dans l’espace; il nous est donc possible de **simuler la trajectoire d'objets célestes pour différentes conditions initiales**, à l'aide des modules `numpy`, `scipy` et `matplotlib`. \n",
    "\n",
    "Pour cela, nous utiliserons les **équations géodésiques** obtenus grâce au lagrangien, ainsi que les **équations de conservation** $L$ et $E$ afin d'incrémenter les variables $(r,\\:\\varphi,\\:t,\\:\\dot r)$. \n",
    "\n",
    "Pour résoudre ces équations différentielles, nous utiliserons la fonction `odeint` du module `scipy`. "
   ]
  },
  {
   "cell_type": "markdown",
   "metadata": {},
   "source": [
    "#### Explication de la fonction `odeint`\n",
    "\n",
    "La fonction `odeint` permet d'intégrer un système d'équation différentiel ordinaire.\n",
    "\n",
    "Elle prends en argument le système d'équations différentielles des geodésiques, et les conditions initiales de la simulation. La solution (le trajectoire) est alors unique.\n",
    "\n",
    "Elle renvoie les solutions de l'évolution du temps $t$, du rayon $r$, de l'angle $\\varphi$ et de la vitesse $\\dot r$ dans le référentiel du temps propre $\\tau$.\n",
    "\n",
    "<div class=\"alert alert-block alert-success\"> \n",
    "À finir hehe\n",
    "</div>"
   ]
  },
  {
   "cell_type": "markdown",
   "metadata": {},
   "source": [
    "\n",
    "Après avoir résolu le système, il sera possible de convertir les coordonnées sphériques en coordonnées cartésiennes et tracer la trajectoire dans le plan 2D.\n",
    "\n",
    "En faisant varier les différents paramètres (masse $M$, position initial $\\vec r_0$ ou vitesse initiale $\\dot{\\vec{r_0}}$,...), on pourrait dans un premier temps chercher à établir des trajectoires elliptiques, mouvement du périhélie, les orbites stables et instables. Puis, on pourrait également étudier le comportement de la lumière proche de l'horizon des événements (effet de lentille, décalage vers le rouge...). \n",
    "<!-- La phrase \"on pourrait dans un premier temps chercher à établir des trajectoires elliptiques, mouvement du périhélie\" est un peu floue, il faudrait la reformuler -->"
   ]
  },
  {
   "cell_type": "markdown",
   "metadata": {},
   "source": [
    "\n",
    "#### Conditions initiales\n",
    "\n",
    "Les conditions initiales peuvent être définies de deux manières : soit dans le référentiel d’un observateur distant en utilisant le temps t, soit en utilisant les quantités exprimées par rapport au temps propre $\\tau$. Ce choix est délicat : en relativité générale, des observateurs situés à différents endroits perçoivent des événements différemment (non seulement en termes de décalage spatial). \n",
    "\n",
    "\n",
    "\n",
    "+ ##### Conditions initiales dans le référentiel d’un observateur distant\n",
    "\n",
    "On suppose que les conditions initiales données en input $(r_0,\\: \\varphi_0,\\: V_{r_0},\\: L_{0})$  sont définies dans le référentiel d’un observateur distant. La représentation graphique du mouvement n’a de sens que dans ce référentiel, car, par définition, l’objet est immobile dans son référentiel propre.\n",
    "\n",
    "\n",
    "Les expressions de la vitesse radiale et du moment angulaire L utilisées dans la fonction `odeint` ont définies à partir des dérivées par rapport au temps propre $\\tau$ ( $r^2\\frac{d\\varphi}{d\\tau }=L$ et $\\frac{dr}{d\\tau }=\\dot{r}$). Ces quantités ne correspondent donc pas à celles définies dans le référentiel d’un observateur distant. Puisque le mouvement est représenté dans ce dernier référentiel, il est plus logique de définir les conditions initiales par rapport à t et de remonter ensuite aux quantités exprimées en fonction de $\\tau$.\n",
    "\n",
    "On peut retrouver les vitesses facilement grâce aux relations :\n",
    " \n",
    " $$\\begin{align*} \\frac{dr}{d\\tau}\\frac{d\\tau}{dt } = \\frac{dr}{dt }    \\Leftrightarrow  \\frac{dr}{d\\tau}=V_{r_0}\\dot{t}, \\\\ \\frac{d\\varphi}{d\\tau}\\frac{d\\tau}{dt }=\\frac{d\\varphi}{dt }  \\Leftrightarrow  \\frac{d\\varphi}{d\\tau}=V_{\\varphi_0}\\dot{t} \\end{align*}$$ \n",
    "\n",
    "Ainsi, on obtient :\n",
    "\n",
    " $$\\begin{align*} L_{\\tau}=r^2V_{\\varphi_0}\\dot{t}=L_{0}\\dot{t} \\end{align*}$$ \n",
    "\n",
    "\n",
    "Il reste à définir $\\dot{t}$: \n",
    "\n",
    "- Pour une particule massive (cas $\\mathcal L=\\frac{1}{2}$) :\n",
    "<!-- %%% par déduction c'est bien ça normalement (pitié que ce soit ça) -->\n",
    "$$ \\mathcal 1=\\left[\\left(1-\\frac{2M}{r_0}\\right)-\\left(1-\\frac{2M}{r_0}\\right)^{-1}V_{r_0}^2-r^2V_{\\varphi _0}^2\\right]\\dot{t}^2 $$\n",
    "\n",
    "\n",
    "Ce qui donne :\n",
    "\\begin{align*}\n",
    "    &\\dot{t}=\\left(\\left(1-\\frac{2M}{r_0}\\right)-\\left(1-\\frac{2M}{r_0}\\right)^{-1}V_{r_0}^2-\\frac{L_{0}}{r_{0}^2}\\right)^{\\frac{1}{2}}\n",
    "\\end{align*}\n",
    "\n",
    "$\\dot{t}$ etant un nombre réel, la quantité sous la racine doit être positive. Certaines valeurs de $r_0, V_{r_0} et L_{0}$ sont donc interdit. Pour simplifier on considere que $L_{0}=0$. On obtient alors une condition sur $V_{r_0}$ (en reintroduisant le facteur c et G) : \n",
    "\n",
    "\\begin{align*}\n",
    "    \\left(1-\\frac{2MG}{c^2r_0}\\right)c^2-\\left(1-\\frac{2MG}{c^2r_0}\\right)^{-1}V_{r_0}^2>0 \\Leftrightarrow \n",
    "    \\left(1-\\frac{2MG}{c^2r_0}\\right)c>V_{r_0}   \\tag{5}\n",
    "\\end{align*}\n",
    "\n",
    "On remarque qu’à proximité du rayon de Schwarzschild ($\\frac{2MG}{c^2r_0}$->1), la vitesse apparente $V_{r_0}$ tend vers 0.  Pour un observateur distant, l’objet semble ralentir et s’arrêter au rayon de Schwarzschild, sans jamais le franchir.\n",
    "\n",
    "Ci-dessous, une représentation de l’évolution du rapport $\\frac{dt}{d\\tau}$ pour un rayon r fixe. Pour une vitesse $V_{r0}$ assez ellevee on atteigne la limite $V_{r_0}=\\left(1-\\frac{2MG}{c^2r_0}\\right)c$ . Cela signifie qu’une vitesse supérieure n’est pas autorisée à cette distance du rayon de Schwarzschild.\n"
   ]
  },
  {
   "cell_type": "markdown",
   "metadata": {},
   "source": [
    "\n",
    "![SegmentLocal](dt_dtau_graphe.png)"
   ]
  },
  {
   "cell_type": "markdown",
   "metadata": {},
   "source": [
    "+ #### Conditions initiales faisant intervenir le temps propre\n",
    "À ce stade, on pourrait se contenter de définir les conditions initiales (C.I.) dans le référentiel distant, en utilisant t, avant de les transformer en quantités dépendant de $\\tau$, ce qui permet de les injecter dans les équations différentielles exprimées en fonction de $\\tau$. Cette approche pose des difficultés dans certaines applications, notamment pour la recherche des orbites stables et instables.\n",
    "\n",
    "Un critère (développé dans la section suivante) permet de définir le rayon des orbites stables en fonction de la masse `M` et du moment cinétique $L$. On pourrait, dans un premier temps, déterminer les rayons de ces orbites en fonction de $L_{\\tau}$, puis calculer le moment cinétique dans le référentiel distant à l’aide de : $L_{0}=\\frac{L_{\\tau}}{\\dot{t}}$ .  Cependant, dans ce cas, les rayons des orbites stables obtenus ne correspondent plus aux mêmes configurations physiques, et l’on aboutit à des orbites d’un autre type.\n",
    "\n",
    "Il est donc nécessaire de calculer le rayon de l’orbite stable pour une valeur donnée de L, puis de représenter le mouvement en fonction de cette même valeur de L. Cela implique de spécifier directement les conditions initiales qui dépendent de $\\tau$ et non de t, avant de représenter le mouvement dans un référentiel distant en utilisant les quantités exprimées en fonction de $\\tau$.\n",
    "\n",
    "Cette approche garantit la cohérence, mais elle ne respecte plus les restrictions imposées par l’équation (5). Par conséquent, il devient possible de représenter des situations qui n’ont pas d’existence physique réelle."
   ]
  },
  {
   "cell_type": "markdown",
   "metadata": {},
   "source": [
    "\n",
    "#### Système différentiel\n",
    "\n",
    "Au final, on obtient à l'entrée: $(r_0,\\varphi_0,\\dot r_0, \\dot \\varphi_0)$. On peut exprimer le système différentielle par 4 relation d'incrémentation à utiliser dans `odeint` : \n",
    "\n",
    "\\begin{align*}\n",
    "&\\frac{dt}{d\\tau}=E\\left(1-\\frac{2M}{r}\\right)^{-1}&\\to\\text{increment } t\\\\\n",
    "&\\frac{dr}{d\\tau}=\\dot r&\\to\\text{increment } r\\\\\n",
    "&\\frac{d\\varphi}{d\\tau}=\\frac{L}{r^2}&\\to\\text{increment }\\varphi\\\\\n",
    "&\\frac{d\\dot r}{d\\tau}=-\\frac{M}{r^2}+\\frac{L^2}{r^3}\\left(1-\\frac{3M}{r}\\right)&\\to\\text{increment } \\dot r\n",
    "\\end{align*}\n",
    "\n"
   ]
  },
  {
   "cell_type": "markdown",
   "metadata": {},
   "source": [
    "## **2. Implémentation dans le code**\n",
    "\n",
    "Nous avons ainsi établi les équations différentielles qui gouvernent le mouvement, avec lesquelles nous pouvons simuler les trajectoires des objets pour différentes conditions initiales. \n",
    "\n",
    "On commence par importer les modules nécessaires. "
   ]
  },
  {
   "cell_type": "code",
   "execution_count": 1,
   "metadata": {},
   "outputs": [],
   "source": [
    "%matplotlib ipympl\n",
    "\n",
    "import numpy as np\n",
    "import matplotlib.pyplot as plt\n",
    "from matplotlib.animation import FuncAnimation\n",
    "from scipy.integrate import odeint\n",
    "from scipy.optimize import * # ? -> Nécessaire ?\n",
    "import sys"
   ]
  },
  {
   "cell_type": "markdown",
   "metadata": {},
   "source": [
    "On definit une fonction `geodesics` prise en argument par `odeint`, correspondant au système d'équation différentielles de notre trajectoire. \n",
    "\n"
   ]
  },
  {
   "cell_type": "code",
   "execution_count": 2,
   "metadata": {},
   "outputs": [],
   "source": [
    "def geodesics(y, tau, L, E, M):\n",
    "\n",
    "    t0, r, phi, r_dot= y  # y porte le valeurs de temps, rayon, phi, vitesse radiale (derivee par rapport a tau)\n",
    "    dt_dtau = E / (1 - 2 * M / r) # Incrémentation du temps\n",
    "    dr_dtau = r_dot # Incrémentation de la vitesse radiale\n",
    "    dphi_dtau = L / r**2 # Incrémentation de la vitesse selon phi\n",
    "    drdot_dtau = -(M / r**2) + (L**2 / r**3) - (3 * M * L**2) / r**4 # Incrémentation l'accélération radiale \n",
    "    \n",
    "    return [dt_dtau, dr_dtau, dphi_dtau, drdot_dtau]"
   ]
  },
  {
   "cell_type": "markdown",
   "metadata": {},
   "source": [
    "<div class=\"alert alert-block alert-success\"> \n",
    "Définir clairement ce qu'on veut mentionner pour les conditions initiales\n",
    "</div>\n",
    "\n",
    "On peut alors définir nos conditions initiales (on choisit de définir directement les quantités faisant intervenir $\\tau$).\n",
    "\n",
    "On calcules les constantes de mouvement, energie $E$ et moment cinetique $L$. On peut normaliser la masse à 1 ; dans ce cas, le rayon est également sans unité. Compte tenu du choix précédent d’unités, on devrait en réalité remplacer\n",
    "\n",
    "$$M \\text{ [sans unites]} \\to \\frac{M_\\text{vrai}G}{c^2} \\:[L]$$\n",
    "  et $$r \\text{[sans unites]} -> r*M_\\text{{vrai}}[L] $$\n"
   ]
  },
  {
   "cell_type": "code",
   "execution_count": 3,
   "metadata": {},
   "outputs": [
    {
     "name": "stderr",
     "output_type": "stream",
     "text": [
      "C:\\Users\\klara\\AppData\\Local\\Temp\\ipykernel_10980\\2342097309.py:16: ODEintWarning: Excess work done on this call (perhaps wrong Dfun type). Run with full_output = 1 to get quantitative information.\n",
      "  sol = odeint(geodesics, y0, tau, args=(L, E, M,))\n"
     ]
    }
   ],
   "source": [
    "r = 3.1 # rayon initial\n",
    "v_r = 0 # initialisation de la vitesse radiale (dr_dtau)\n",
    "t0 = 0\n",
    "phi0 = 0\n",
    "M = 1\n",
    "\n",
    "L = 9*9*0.05 # initaialisation de moment cinetique (r^2*d_phi/d_tau)\n",
    "E = np.sqrt((1 - 2 * M / r) * (1 + L**2 / r**2)) # calcule d'energie totale\n",
    "\n",
    "y0 = [t0, r, phi0, v_r] \n",
    "\n",
    "tau = np.linspace(0, 100, 10000) # défini l'intervalle de temps choisi pour la simulation\n",
    "\n",
    "# ! Constant uniquement pour orbite circulaire -- Qui est constant??\n",
    "\n",
    "sol = odeint(geodesics, y0, tau, args=(L, E, M,))\n",
    "sol_t0, sol_r, sol_phi, sol_r_dot = sol[:, 0], sol[:, 1], sol[:, 2], sol[:, 3]"
   ]
  },
  {
   "cell_type": "markdown",
   "metadata": {},
   "source": [
    "#### Note sur les unités de $r$ et $t$\n",
    "\n",
    "En considérant la masse du Soleil $M_\\odot=2\\cdot10^{30}$ kg, on réexprimer l'unite du rayon $r$ et du temps $t$ :\n",
    "\n",
    "$$\n",
    "\\begin{gather}\n",
    "r=r_\\odot=\\frac{M_\\odot G}{c^2}=1.48 \\text{ km}\\\\\n",
    "\n",
    "t=t_\\odot=\\frac{r_\\odot}{c}=4.94 \\:\\mu\\text{s}\n",
    "\\end{gather}\n",
    "$$\n",
    "\n"
   ]
  },
  {
   "cell_type": "markdown",
   "metadata": {},
   "source": [
    "# **3. Études des trajectoires stellaires autour du trou noir**"
   ]
  },
  {
   "cell_type": "markdown",
   "metadata": {},
   "source": [
    "### 3.1 L'expression du potentiel\n",
    "Dans le cas général, le potentiel s'écrit :\n",
    "\n",
    "$U = \\left(\\frac{2M}{r}-1\\right)\\left(-\\mathcal L -\\frac{1}{2}\\frac{L^2}{r^2}\\right)\\\\ \\Leftrightarrow \n",
    "U  = -\\frac{2M}{r}\\mathcal L + \\mathcal L -\\frac{ML^2}{r^3} + \\frac{1}{2}\\frac{L^2}{r^2}\\\\$\n",
    "\n",
    "Pour une particule massive, cela peut se réécrire (à une constante près) : \n",
    "\n",
    "$U  = -\\frac{2M}{r} -\\frac{ML^2}{r^3} + \\frac{1}{2}\\frac{L^2}{r^2}\\\\$\n",
    "\n",
    "On peut identifier les différents termes dans cette expression et les associer aux forces connues.\n",
    "\n",
    "Ainsi, le terme $-\\frac{2M}{r}$ est le terme du potentiel gravitationnel newtonien. Le terme répulsif $\\frac{1}{2}\\frac{L^2}{r^2}$ correspond à la force centrifuge.\n",
    "\n",
    "C'est le terme $-\\frac{ML^2}{r^3}$ caractéristique de la relativité générale, qui provient de la courbure de l'espace-temps. À courte distance (r petit), cette force devient significative et modifie les orbites par rapport à celles prévues par la mécanique classique. C'est ainsi que l'anomalie de la précession de Mercure a été expliquée en 1859 (le potentiel propre à la relativité générale induit un écart de position par rapport aux prédictions newtoniennes).\n",
    "\n",
    "\n",
    "\n",
    "<img src=\"figures/L_geq_12M.png\" alt=\"a\" width=\"40%\">\n",
    "<img src=\"figures/L_l_12M.png\" alt=\"b\" width=\"42.5%\">\n",
    "\n",
    "\n",
    "<div class=\"alert alert-block alert-success\"> \n",
    "Les images plus tard?\n",
    "</div>"
   ]
  },
  {
   "cell_type": "markdown",
   "metadata": {},
   "source": [
    "### 3.2 Cas d'une particule massive : $\\mathcal L = \\frac{1}{2}$"
   ]
  },
  {
   "cell_type": "markdown",
   "metadata": {},
   "source": [
    "Pour le cas d'une étoile, nous considérons le modèle d'une \"particule\" massive, avec $\\mathcal L = \\frac{1}{2}$\n",
    "\n",
    "Pour ce modèle, l'expression du potentiel s'écrit :\n",
    "\n",
    "$$\\begin{align*}\n",
    "U & = -\\frac{2M}{r}\\mathcal L + \\mathcal L -\\frac{ML^2}{r^3} + \\frac{1}{2}\\frac{L^2}{r^2}\\\\\n",
    "U & = \\frac{1}{2}\\left(1-\\frac{2M}{r}\\right)\\left(1 + \\frac{L^2}{r^2}\\right)\\\\\n",
    "\\end{align*}\n",
    "$$\n",
    "\n",
    "On cherche alors les solutions des racines de la dérivée du potentielle, afin de connaître les rayons d'orbite circulaire, soit\n",
    "\n",
    "$$\n",
    "\\frac{dU}{dr}=0\\iff \\frac{M}{r^2}-\\frac{L^2}{r^3}+\\frac{3ML^2}{r^4}=0\\\\\n",
    "\\iff Mr^2-rL^2+3ML^2=0\n",
    "$$\n",
    "\n",
    "On résoud alors les racines de ce polynôme de degré 2 :\n",
    "\n",
    "$$\n",
    "\\Delta = L^2(L^2-12M^2)\\\\\n",
    "\\boxed{r_\\pm = \\frac{L^2\\pm \\sqrt{\\Delta}}{2M}}\\text{ si $L\\geq \\sqrt{12}M$, sinon pas de solution}\n",
    "$$\n",
    "\n",
    "On a alors deux cas :\n",
    "\n",
    "- $L \\geq \\sqrt{12}M$ : Deux orbites circulaires de rayon $r_\\pm = \\dfrac{L^2\\pm \\sqrt{\\Delta}}{2M}$\n",
    "\n",
    "- $L < \\sqrt{12}M$ : Pas de racine $\\to$ aucune orbite circulaire\n",
    "\n",
    "Nous commencerons par étudier le premier cas.\n"
   ]
  },
  {
   "cell_type": "markdown",
   "metadata": {},
   "source": [
    "#### 3.2.1 Cas $L \\geq \\sqrt{12}M$\n",
    "\n",
    "Graphons l'évolution de l'énergie potentielle en fonction du rayon pour les valeurs $M = 3$ et $L = 1.2\\times \\sqrt{12}M$ :\n",
    "\n",
    "<div style=\"text-align: center;\">\n",
    "    <img src=\"figures/Ep_etoile.png\" width=\"60%\">\n",
    "</div>\n",
    "\n",
    "<!-- On peut voir que l'étoile possède deux rayons stable, un méta-stable proche du trou noir de rayon $r_- \\in \\:]3M,6M[$ \n",
    "\n",
    "$r_\\pm = \\frac{L^2\\pm \\sqrt{\\Delta}}{2M}$ -->\n",
    "\n",
    "À l'aide du schéma, on repère 4 situations possibles :\n",
    "\n",
    "- $r < r_-$\n",
    "    - La particule chute à l’intérieur du trou noir sans pouvoir s’en échapper\n",
    "- $r = r_-$\n",
    "    - Orbite stable (aussi circulaire si $v_r=0$)\n",
    "- $r \\in ]r_-,r_+[$\n",
    "    - Orbite stable  \n",
    "- $r = r_+$\n",
    "    - Orbite stable (aussi circulaire si $v_r=0$)\n",
    "- $r > r_+$\n",
    "    - Oscillation autour du trou noir durant son orbite mais sans jamais pouvoir tomber dedans ni s’en échapper\n",
    "- $r=(r_-)^+$ : la trajectoire va sembler s’éloigner du trou noir, mais réalise en réalité juste une orbite très très grande au vu du son énergie potentielle élevé\n",
    "\n",
    "<div class=\"alert alert-block alert-success\"> \n",
    "Revoir</div>\n",
    "\n",
    "\n"
   ]
  },
  {
   "cell_type": "markdown",
   "metadata": {},
   "source": [
    "#### 3.2.2 Cas $L < \\sqrt{12}M$\n",
    "\n",
    "- $L < \\sqrt{12}M$ : Pas de racine $\\to$ aucune orbite circulaire\n",
    "\n",
    "On graphe l'expression du potentielle résultant : \n",
    "\n",
    "<img src=\"figures/L_l_12M.png\" alt=\"b\" width=\"42.5%\">\n",
    "\n",
    "Ainsi, il n'existe ni d'orbite circulaire ni d'orbite stable dans cette situation. Si le moment cinétique $L$ est trop faible, alors l'étoile (ou la particule) tombera forcément dans le trou noir."
   ]
  },
  {
   "cell_type": "markdown",
   "metadata": {},
   "source": [
    "On peut alors tester notre code pour les différentes valeurs particulières de $r$"
   ]
  },
  {
   "cell_type": "code",
   "execution_count": null,
   "metadata": {},
   "outputs": [],
   "source": [
    "###################################\n",
    "### Valeurs initiales à imposer ###\n",
    "###################################\n",
    "\n",
    "tau = np.linspace(0, 100, 1000) # défini l'intervalle de temps choisi pour la simulation\n",
    "L = 9*9*0.05 # On choisit arbitrairement la valeur du moment cinétique\n",
    "M = 1 # M en unité de masse solaire M_\\odot = 2e30\n",
    "\n",
    "#############################################\n",
    "### Recherche des valeurs d'orbite stable ###\n",
    "#############################################\n",
    "\n",
    "Lagr = 1/2 # Choix du cas particule massive ou photon (Lagr=0)\n",
    "\n",
    "if Lagr == 1/2:\n",
    "    if L >= (12)**(1/2)*M:\n",
    "        r_moins=((L**2-np.sqrt(L**4-12*(M**2)*L**2))/2/M) # rayon stable le plus proche de l'étoile\n",
    "        r_plus=((L**2+np.sqrt(L**4-12*(M**2)*L**2))/2/M) # rayon stable le plus éloigné de l'étoile\n",
    "        print(f\"Orbites stables : {r_moins}, {r_plus}\")\n",
    "    else:\n",
    "        print(\"Pas de racine\") # cela signifie que l'étoile tombera forcément dans le trou noir\n",
    "\n",
    "elif Lagr == 0:\n",
    "    orb_stable = 3*M\n",
    "    print(f\"Orbite stable pour r = {orb_stable}\")"
   ]
  },
  {
   "cell_type": "markdown",
   "metadata": {},
   "source": [
    "### Exemples de differantes trajectoires\n",
    "\n",
    "Ici, nous présentons les représentations 2D des trajectoires pour les quatres types de rayons. Le code de notre simulation est affiché ci-dessous. Cependant, en raison de la qualité réduite des représentations dans Jupyter Notebook, il est préférable de montrer les GIF générés à l'aide du script Python"
   ]
  },
  {
   "cell_type": "markdown",
   "metadata": {},
   "source": [
    "+ $r < r_-$ : La chute de la particule dans le trou noir. La dernière partie de la trajectoire semble droite, mais ce n'est pas le cas en réalité. En effet, cela est dû à un pas d'animation trop grand par rapport à la vitesse acquise par la particule. En réalité, on considérerait que la particule atteint le trou noir en franchissant le rayon de Schwarzschild (ici $R_s = 2$). Dans notre modèle, le trou noir est représenté comme un objet ponctuel\n"
   ]
  },
  {
   "cell_type": "markdown",
   "metadata": {},
   "source": [
    "![SegmentLocal](t_r_moins.gif)"
   ]
  },
  {
   "cell_type": "markdown",
   "metadata": {},
   "source": [
    "- $r = r_-$ et $r = r_+$ : orbite stable circulaire\n"
   ]
  },
  {
   "cell_type": "markdown",
   "metadata": {},
   "source": [
    "![SegmentLocal](t2_r_moins.gif)"
   ]
  },
  {
   "cell_type": "markdown",
   "metadata": {},
   "source": [
    "- $r = r_- \\in ]3M,6M[$ : orbite stable, trajectoire forme des rosaces"
   ]
  },
  {
   "cell_type": "markdown",
   "metadata": {},
   "source": [
    "![SegmentLocal](t_r_inter.gif)"
   ]
  },
  {
   "cell_type": "markdown",
   "metadata": {},
   "source": [
    "+ anomalie"
   ]
  },
  {
   "cell_type": "markdown",
   "metadata": {},
   "source": [
    "Le code utilisé: "
   ]
  },
  {
   "cell_type": "code",
   "execution_count": null,
   "metadata": {},
   "outputs": [],
   "source": [
    "\n",
    "###############################################\n",
    "### Initialisation des conditions initiales ###\n",
    "###############################################\n",
    "r = r_moins # rayon initial\n",
    "v_r = 0 # initialisation de la vitesse radiale (dr_dtau)\n",
    "t0 = 0\n",
    "phi0 = 0\n",
    "M = 1\n",
    "\n",
    "L = 9*9*0.05 # initaialisation de moment cinetique (r^2*d_phi/d_tau)\n",
    "E = np.sqrt((1 - 2 * M / r) * (1 + L**2 / r**2)) # calcule d'energie totale\n",
    "\n",
    "y0 = [t0, r, phi0, v_r] \n",
    "\n",
    "#############################################\n",
    "### Résolution des équa diff du mouvement ###\n",
    "#############################################\n",
    "\n",
    "sol = odeint(geodesics, y0, tau, args=(L, E, M,))\n",
    "sol_t0, sol_r, sol_phi, sol_r_dot = sol[:, 0], sol[:, 1], sol[:, 2], sol[:, 3]\n",
    "\n",
    "####################################################################\n",
    "### Projection des solutions polaires en coordonnées cartésienne ###\n",
    "####################################################################\n",
    "\n",
    "x_sol =  sol_r * np.cos(sol_phi)\n",
    "y_sol =  sol_r * np.sin(sol_phi)\n",
    "\n",
    "\n",
    "# Création de la figure et des axes\n",
    "fig, ax1 = plt.subplots()\n",
    "ax1.set_xlabel(\"x\")\n",
    "ax1.set_ylabel(\"y\")\n",
    "ax1.set_title(\"Évolution d'une trajectoire 2D\")\n",
    "\n",
    "# Délimitation des axes pour s'assurer d'observer correctement la trajectoire\n",
    "ax1.set_xlim(np.min(x_sol)*1.05, np.max(x_sol)*1.05)\n",
    "ax1.set_ylim(np.min(y_sol)*1.05, np.max(y_sol)*1.05)\n",
    "\n",
    "# Initialisation de l'objet graphique\n",
    "line, = ax1.plot([], [], lw=2, label=\"Trajectoire\")\n",
    "point, = ax1.plot([], [], 'ro')  # Point pour la position actuelle\n",
    "\n",
    "\n",
    "# Dessiner le trou noir comme un point noir au centre\n",
    "ax1.plot(0, 0, 'o', color='black', markersize=8, label='Trou noir')  # Marqueur noir au centre\n",
    "#ax1.legend()\n",
    "\n",
    "# Fonction d'initialisation\n",
    "def init():\n",
    "    line.set_data([], [])\n",
    "    point.set_data([], [])\n",
    "    return line, point\n",
    "\n",
    "def update(frame):\n",
    "    # Mise à jour des trajectoires\n",
    "    line.set_data(x_sol[:frame], y_sol[:frame])  # Trajectoie\n",
    "    point.set_data([x_sol[frame]], [y_sol[frame]])  # Point représentant la particule / l'étoile\n",
    "    return line, point\n",
    "\n",
    "show_animation = True\n",
    "\n",
    "if show_animation:\n",
    "    ani = FuncAnimation(fig, update, frames=len(sol_t0), init_func=init, blit=True, interval=20)\n",
    "    plt.gca().set_aspect('equal')\n",
    "    plt.grid(True)\n",
    "\n",
    "else:\n",
    "    fig, ax2 = plt.subplots()\n",
    "    ax2.plot(0, 0, 'o', color='black', markersize=8, label='Trou noir')  # Marqueur noir au centre\n",
    "    plt.plot(x_sol, y_sol)\n",
    "    ax2.set_aspect(aspect=\"equal\")\n",
    "    plt.grid(True)\n",
    "    plt.show()\n"
   ]
  },
  {
   "cell_type": "markdown",
   "metadata": {},
   "source": [
    "### Cas de la lumière : $\\mathcal L = 0$"
   ]
  },
  {
   "cell_type": "markdown",
   "metadata": {},
   "source": [
    "L'expression du potentiel s'écrit :\n",
    "\n",
    "$$\\begin{align*}\n",
    "U & = -\\frac{2M}{r}\\mathcal L + \\mathcal L -\\frac{ML^2}{r^3} + \\frac{1}{2}\\frac{L^2}{r^2}\\\\\n",
    "U & = \\frac{L^2}{2r^2}\\left(1-\\frac{2M}{r}\\right)\\\\\n",
    "\\end{align*}\n",
    "$$\n",
    "\n",
    "On cherche alors les solutions des racines de la dérivée du potentielle, afin de connaître les rayons d'orbite stable, soit\n",
    "\n",
    "$$\n",
    "\\frac{dU}{dr}=0\\iff \\frac{L^2}{r^3}(\\frac{3M}{r}-1)=0\\\\\n",
    "\n",
    "$$\n",
    "\n",
    "La seule orbite stable $r=3M$ est alors independante de L. Il s’agit du sphere de photon: c'est la seule surface (ici: un circle) où le photon emis peut suivre une orbite stable, et donc reste autour du trou noir sans s’en échapper ni tomber dedans. Pour tout rayon < 3M le photon doit necessairemnt tomber dans le trou noir. Pour r > 3M le photon s'echappe de l’attraction du trou noir et s’éloigner à l’infini.\n",
    "\n",
    "<img src=\"figures/potentiel_lum.png\" width=\"40%\">\n",
    "\n",
    "\n",
    "\n",
    "<ins>Description physique</ins> :\n",
    "\n",
    "- Les rayons lumineux suivent aussi des géodésiques.\n",
    "- Déviation de la lumière par une masse centrale : lentille gravitationnelle.\n",
    "- Capture ou orbite photonique proche du trou noir.\n",
    "\n",
    "<ins>Code associé</ins> :\n",
    "\n",
    "- Fonction de calcul de trajectoire des rayons lumineux :\n",
    "- Conditions initiales : angle d'incidence, distance minimale au centre.\n",
    "- Variables : masse du trou noir, rayon de Schwarzschild.\n",
    "- Simulation de la déviation et des orbites photoniques.\n",
    "\n",
    "![test](figures/potentiel_lum.png)\n",
    "\n",
    "<ins>Lien avec la réalité physique</ins> :\n",
    "\n",
    "- Observation expérimentale des lentilles gravitationnelles dans l'univers (par exemple, Einstein Cross).\n",
    "- Effet de capture des rayons lumineux au-delà d’un certain rayon critique."
   ]
  },
  {
   "cell_type": "markdown",
   "metadata": {},
   "source": [
    "![SegmentLocal](t_photon.gif)"
   ]
  },
  {
   "cell_type": "markdown",
   "metadata": {},
   "source": [
    "# III. Mesure des énergies cinétique et potentielle\n",
    "\n",
    "On calcule l'énergie potentielle \n",
    "\n",
    "$$U= \\left(\\frac{2M}{r} - 1\\right) \\times \\left(-\\frac{1}{2}- \\mathcal{L}\\left(\\frac{L}{r}\\right)^2\\right)$$\n",
    "\n",
    "avec le lagrangien $\\mathcal L = \\begin{cases}\\frac{1}{2}\\text{ pour une particule massive}\\\\0 \\text{ pour un photon}\\end{cases}$"
   ]
  },
  {
   "cell_type": "markdown",
   "metadata": {},
   "source": [
    "# IV. Effet du redshift gravitationnel"
   ]
  },
  {
   "cell_type": "markdown",
   "metadata": {},
   "source": [
    "## 1. Calcul du redshift"
   ]
  },
  {
   "cell_type": "markdown",
   "metadata": {},
   "source": [
    "### Résumé\n",
    "\n",
    "<ins>Description physique</ins> :\n",
    "\n",
    "Quand la lumière s'éloigne d'une source massive, sa longueur d'onde augmente (redshift).\n",
    "\n",
    "Interprétation : perte d'énergie de la lumière due à la courbure de l'espace-temps.\n",
    "\n",
    "<ins>Code associé</ins> :\n",
    "\n",
    "Fonction de calcul du redshift gravitationnel :\n",
    "\n",
    "Paramètres : position initiale et finale, masse centrale.\n",
    "\n",
    "Résultat : valeur du redshift $z$.\n",
    "\n",
    "Affichage des résultats et interprétation physique.\n",
    "\n",
    "<ins>Lien avec la réalité physique</ins> :\n",
    "\n",
    "Confirmation expérimentale : mesure du redshift dans des systèmes proches d'objets massifs (étoiles à neutrons, trous noirs)."
   ]
  },
  {
   "cell_type": "markdown",
   "metadata": {},
   "source": [
    "### Redshift gravitationnel\n",
    "\n",
    "In the theory of general relativity, there is time dilation within a gravitational well. This is known as the gravitational redshift or Einstein Shift.[45] The theoretical derivation of this effect follows from the Schwarzschild solution of the Einstein equations which yields the following formula for redshift associated with a photon traveling in the gravitational field of an uncharged, nonrotating, spherically symmetric mass\n",
    "\n",
    "\n",
    "$$ 1 + z = \\frac{1}{1-\\sqrt{\\dfrac{2GM}{rc^2}}}  = \\frac{1}{1-\\sqrt{\\dfrac{R_S}{r}}} $$\n",
    "avec $R_S= \\dfrac{2GM}{c^2}$ le rayon de Schwarzschild\n",
    "\n",
    "Comme on considère ici notre $M$ un facteur de $M_0=2\\cdot 10^{30}$ la masse du soleil, et $G=c=1$, on calcule dans notre code le redshift tel que\n",
    "\n",
    "$$ z = \\frac{1}{1-\\sqrt{\\dfrac{2M}{r}}} - 1 $$\n"
   ]
  },
  {
   "cell_type": "code",
   "execution_count": 7,
   "metadata": {},
   "outputs": [],
   "source": [
    "def redshift(r): # ? Est ce qu'on l'exprime comme décalage relatif ou est ce qu'on laisse les valeurs ?\n",
    "    \"\"\"\n",
    "    Retourne une liste du redshift de la longueur d'onde d'émission au cours du temps\n",
    "    \"\"\"\n",
    "    # G = 6.67 * 1e-11\n",
    "    # c = 3 * 1e8\n",
    "    \n",
    "    # Calcul du redshift gravitationnel\n",
    "    z = 1/np.sqrt(1 - 2*M/r) - 1\n",
    "    \n",
    "    return z"
   ]
  },
  {
   "cell_type": "markdown",
   "metadata": {},
   "source": [
    "# V. Comparaison entre Newton et Einstein"
   ]
  },
  {
   "cell_type": "markdown",
   "metadata": {},
   "source": [
    "\n",
    "\n",
    "Dans le cadre classique l'expression du potentiel peut se reecrire en excluant le terme relativiste: \n",
    "\n",
    "$U  = -\\frac{2M}{r} + \\frac{1}{2}\\frac{L^2}{r^2}\\\\$\n",
    "\n",
    "Les solutions sont donnes par les extrema du potentiel:\n",
    "$$\n",
    "\\frac{dU}{dr}=0\\iff \\frac{1}{r^2}(2M-\\frac{L^2}{r})=0\\\\$$\n",
    "\n",
    "On remarque qu'une orbite stable est toujour definie, independament des conditions initialles, $r=\\frac{L^2}{2M}$\n",
    "\n",
    "\n",
    "\n",
    "\n",
    "\n",
    "\n",
    "\n",
    "\n",
    "<ins>Synthèse</ins> :\n",
    "\n",
    "- Trajectoires planétaires : newtoniennes (ellipses parfaites) vs relativistes (précession).\n",
    "- Lumière : absence de déviation dans Newton, déviation dans Einstein.\n",
    "- Effets observables uniquement en relativité générale : redshift gravitationnel, orbites photoniques.\n",
    "\n",
    "<ins>Visualisation dans le code</ins> :\n",
    "\n",
    "- Superposition des trajectoires simulées dans les deux cadres théoriques.\n",
    "- Analyse des différences dans les résultats."
   ]
  },
  {
   "cell_type": "markdown",
   "metadata": {},
   "source": [
    "### Comparaison\n",
    "\n",
    "<ins>Synthèse</ins> :\n",
    "\n",
    "- Trajectoires planétaires : newtoniennes (ellipses parfaites) vs relativistes (précession).\n",
    "- Lumière : absence de déviation dans Newton, déviation dans Einstein.\n",
    "- Effets observables uniquement en relativité générale : redshift gravitationnel, orbites photoniques.\n",
    "\n",
    "<ins>Visualisation dans le code</ins> :\n",
    "\n",
    "- Superposition des trajectoires simulées dans les deux cadres théoriques.\n",
    "- Analyse des différences dans les résultats."
   ]
  },
  {
   "cell_type": "markdown",
   "metadata": {},
   "source": [
    "![SegmentLocal](newton.gif)"
   ]
  },
  {
   "cell_type": "markdown",
   "metadata": {},
   "source": [
    "## Comparaison à la mécanique newtonnienne classique\n",
    "\n",
    "En rajoutant une fonction $\\tt{geodesics\\_classical}$ permet de calculer la trajectoire de l'objet autour du trou noir dans le cas où l'on ne considère pas de terme relativiste. \n",
    "\n",
    "On voit alors que l'on trouve une orbite elliptique stable, restant la même tout le long de la simulation tandis que la trajectoire relativiste, l'objet tourne autour du trou noir tout au long de sa trajectoire."
   ]
  },
  {
   "cell_type": "markdown",
   "metadata": {},
   "source": []
  },
  {
   "cell_type": "markdown",
   "metadata": {},
   "source": [
    "# VI. Conclusion et perspective"
   ]
  },
  {
   "cell_type": "markdown",
   "metadata": {},
   "source": [
    "### Conclusion \n",
    "\n",
    "<ins>Résumé des phénomènes simulés</ins> :\n",
    "\n",
    "- Importance de la relativité générale pour expliquer des observations astrophysiques.\n",
    "- Réussite du projet : mise en évidence des effets principaux (précession, déviation, redshift).\n",
    "\n",
    "<ins>Idées pour aller plus loin</ins> :\n",
    "\n",
    "- Étendre les simulations à des configurations plus complexes (trous noirs en rotation).\n",
    "- Étudier les perturbations (effet de plusieurs masses).\n",
    "- Approfondir l’analyse des lentilles gravitationnelles dans un contexte cosmologique."
   ]
  }
 ],
 "metadata": {
  "kernelspec": {
   "display_name": "Python 3",
   "language": "python",
   "name": "python3"
  },
  "language_info": {
   "codemirror_mode": {
    "name": "ipython",
    "version": 3
   },
   "file_extension": ".py",
   "mimetype": "text/x-python",
   "name": "python",
   "nbconvert_exporter": "python",
   "pygments_lexer": "ipython3",
   "version": "3.10.11"
  }
 },
 "nbformat": 4,
 "nbformat_minor": 2
}
